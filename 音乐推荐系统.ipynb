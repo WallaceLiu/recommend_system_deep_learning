{
 "cells": [
  {
   "cell_type": "markdown",
   "metadata": {
    "toc": true
   },
   "source": [
    "<h1>Table of Contents<span class=\"tocSkip\"></span></h1>\n",
    "<div class=\"toc\"><ul class=\"toc-item\"><li><span><a href=\"#从原始数据中提取所用信息\" data-toc-modified-id=\"从原始数据中提取所用信息-1\"><span class=\"toc-item-num\">1&nbsp;&nbsp;</span>从原始数据中提取所用信息</a></span></li><li><span><a href=\"#将已提取数据转化为推荐系统框架格式的数据：user-item-rating-timestamp\" data-toc-modified-id=\"将已提取数据转化为推荐系统框架格式的数据：user-item-rating-timestamp-2\"><span class=\"toc-item-num\">2&nbsp;&nbsp;</span>将已提取数据转化为推荐系统框架格式的数据：user item rating timestamp</a></span></li><li><span><a href=\"#保存歌单和歌曲信息\" data-toc-modified-id=\"保存歌单和歌曲信息-3\"><span class=\"toc-item-num\">3&nbsp;&nbsp;</span>保存歌单和歌曲信息</a></span></li><li><span><a href=\"#训练模型\" data-toc-modified-id=\"训练模型-4\"><span class=\"toc-item-num\">4&nbsp;&nbsp;</span>训练模型</a></span><ul class=\"toc-item\"><li><span><a href=\"#使用协同过滤\" data-toc-modified-id=\"使用协同过滤-4.1\"><span class=\"toc-item-num\">4.1&nbsp;&nbsp;</span>使用协同过滤</a></span><ul class=\"toc-item\"><li><span><a href=\"#建立映射字典\" data-toc-modified-id=\"建立映射字典-4.1.1\"><span class=\"toc-item-num\">4.1.1&nbsp;&nbsp;</span>建立映射字典</a></span></li><li><span><a href=\"#读取文件和训练\" data-toc-modified-id=\"读取文件和训练-4.1.2\"><span class=\"toc-item-num\">4.1.2&nbsp;&nbsp;</span>读取文件和训练</a></span></li><li><span><a href=\"#寻找最相近的10个user（此处是歌单）\" data-toc-modified-id=\"寻找最相近的10个user（此处是歌单）-4.1.3\"><span class=\"toc-item-num\">4.1.3&nbsp;&nbsp;</span>寻找最相近的 10 个 user（此处是歌单）</a></span></li><li><span><a href=\"#针对user进行预测\" data-toc-modified-id=\"针对user进行预测-4.1.4\"><span class=\"toc-item-num\">4.1.4&nbsp;&nbsp;</span>针对 user 进行预测</a></span></li></ul></li><li><span><a href=\"#使用矩阵分解\" data-toc-modified-id=\"使用矩阵分解-4.2\"><span class=\"toc-item-num\">4.2&nbsp;&nbsp;</span>使用矩阵分解</a></span></li></ul></li><li><span><a href=\"#模型存储和载入\" data-toc-modified-id=\"模型存储和载入-5\"><span class=\"toc-item-num\">5&nbsp;&nbsp;</span>模型存储和载入</a></span></li><li><span><a href=\"#不同的推荐算法评估\" data-toc-modified-id=\"不同的推荐算法评估-6\"><span class=\"toc-item-num\">6&nbsp;&nbsp;</span>不同的推荐算法评估</a></span></li><li><span><a href=\"#歌曲序列建模\" data-toc-modified-id=\"歌曲序列建模-7\"><span class=\"toc-item-num\">7&nbsp;&nbsp;</span>歌曲序列建模</a></span><ul class=\"toc-item\"><li><span><a href=\"#训练得出歌曲的词向量\" data-toc-modified-id=\"训练得出歌曲的词向量-7.1\"><span class=\"toc-item-num\">7.1&nbsp;&nbsp;</span>训练得出歌曲的词向量</a></span></li><li><span><a href=\"#预测song2vec的相似度\" data-toc-modified-id=\"预测song2vec的相似度-7.2\"><span class=\"toc-item-num\">7.2&nbsp;&nbsp;</span>预测 song2vec 的相似度</a></span></li></ul></li></ul></div>"
   ]
  },
  {
   "cell_type": "markdown",
   "metadata": {},
   "source": [
    "# 从原始数据中提取所用信息"
   ]
  },
  {
   "cell_type": "code",
   "execution_count": null,
   "metadata": {
    "ExecuteTime": {
     "end_time": "2019-07-07T10:46:31.751382Z",
     "start_time": "2019-07-07T10:20:49.619565Z"
    }
   },
   "outputs": [],
   "source": [
    "import json\n",
    "import sys\n",
    "\n",
    "def parse_song_line(music_file):\n",
    "    data = json.loads(music_file)\n",
    "    name = data['result']['name']\n",
    "    tags = ','.join(data['result']['tags'])\n",
    "    subscribed_count = data['result']['subcribedCount']\n",
    "    if subscribed_count<100:\n",
    "        return False\n",
    "    playlist_id = data['result']['id']\n",
    "    song_info = ''\n",
    "    songs = data['result']['tracks']\n",
    "    for song in songs:\n",
    "        try:\n",
    "            song_info += '\\t'+':::'.join([str(song['id']), song['name'], song['artists'][0]['name'], str(song['popularity'])])\n",
    "        except:\n",
    "            continue\n",
    "    return name+'##'+tags+'##'+str(playlist_id)+'##'+str(subscribed_count)+song_info\n",
    "\n",
    "def parse_file(in_file, out_file):\n",
    "    with open(out_file, 'w') as f:\n",
    "        with open(in_file, 'r', encoding = 'utf-8') as g:\n",
    "            for line in g.readlines():\n",
    "                result = parse_song_line(line)\n",
    "                if result:\n",
    "                    print(result)\n",
    "                    f.write(result.encode('utf-8').strip() + '\\n')\n",
    "                \n",
    "parse_file('./playlist.detail.all/playlistdetail.all.json', './163_music_playlist.txt')"
   ]
  },
  {
   "cell_type": "markdown",
   "metadata": {},
   "source": [
    "# 将已提取数据转化为推荐系统框架格式的数据：user item rating timestamp"
   ]
  },
  {
   "cell_type": "code",
   "execution_count": null,
   "metadata": {},
   "outputs": [],
   "source": [
    "import json\n",
    "import sys\n",
    "\n",
    "def is_null(s):\n",
    "    return len(s.split(','))>2\n",
    "\n",
    "def parse_song_info(song_info):\n",
    "    try:\n",
    "        song_id, name, artist, popularity = song_info.split(':::')\n",
    "        return ','.join([song_id, '1.0', '1300000'])\n",
    "    ##评分时，因为原数据仅有是否收藏，因此分数统一写为1.0分\n",
    "    except:\n",
    "        return ''\n",
    "\n",
    "def parse_playlist_line(in_line):\n",
    "    try:\n",
    "        contents = in_line.strip().split('\\t')\n",
    "        name, tags, playlist_id, subscribed_count = content[0].split('##')\n",
    "        songs_info = map(lambda x: playlist_id+','+parse_song_info(x), contents[1:])\n",
    "        ##这里是以一个歌单为标准格式中的user\n",
    "        songs_info = filter(is_null, songs_info)\n",
    "        return '\\n'.join(songs_info)\n",
    "    except:\n",
    "        return False\n",
    "    \n",
    "def parse_file(in_file, out_file):\n",
    "    with open(out_file, 'w') as out:\n",
    "        with open(in_file, 'r', encoding = 'utf-8') as f:\n",
    "            for line in f.readlines():\n",
    "                result = parse_playlist_line(line)\n",
    "                if result:\n",
    "                    out.wirte(result.encode('utf-8').strip()+'\\n')\n",
    "\n",
    "parse_file(\"./163_music_playlist.txt\", \"./163_music_suprise_format.txt\")"
   ]
  },
  {
   "cell_type": "markdown",
   "metadata": {},
   "source": [
    "# 保存歌单和歌曲信息"
   ]
  },
  {
   "cell_type": "code",
   "execution_count": null,
   "metadata": {
    "ExecuteTime": {
     "end_time": "2019-07-07T11:45:54.887833Z",
     "start_time": "2019-07-07T11:45:54.880829Z"
    }
   },
   "outputs": [],
   "source": [
    "import pickle\n",
    "import sys\n",
    "\n",
    "def parse_playlist_get_info(in_line, playlist_dic, song_dic):\n",
    "    contents = in_line.strip().split('\\t')\n",
    "    name, tags, playlist_id, subscribed_count = contents[0].split('##')\n",
    "    playlist_dic[playlist_id] = name\n",
    "    for song in contents[1]:\n",
    "        try:\n",
    "            song_id, song_name, artist, popularity = song.split(':::')\n",
    "            song_dic[song_id] = song_name+'\\t'+artist\n",
    "        except:\n",
    "            print('song format error')\n",
    "            \n",
    "def parse_file(in_file, out_playlist, out_song):\n",
    "    playlist_dic = {}\n",
    "    song_dic = {}\n",
    "    with open(in_file, 'r') as f:\n",
    "        for line in f.readlines():\n",
    "            parse_playlist_get_info(line, playlist_dic, song_dic)\n",
    "            with open(out_playlist, 'wb') as f:\n",
    "                pickle.dump(playlist_dic, f)\n",
    "            with open(out_song, 'wb') as f:\n",
    "                pickle.dump(song_dic, f)\n",
    "\n",
    "parse_file('./163_music_playlist.txt', 'playlist.pkl', 'song.pkl')"
   ]
  },
  {
   "cell_type": "markdown",
   "metadata": {},
   "source": [
    "# 训练模型"
   ]
  },
  {
   "cell_type": "markdown",
   "metadata": {},
   "source": [
    "## 使用协同过滤"
   ]
  },
  {
   "cell_type": "code",
   "execution_count": 1,
   "metadata": {
    "ExecuteTime": {
     "end_time": "2019-07-09T17:30:44.585066Z",
     "start_time": "2019-07-09T17:30:44.441700Z"
    }
   },
   "outputs": [],
   "source": [
    "from surprise import Dataset, Reader, KNNBaseline\n",
    "import pickle\n",
    "import os"
   ]
  },
  {
   "cell_type": "markdown",
   "metadata": {},
   "source": [
    "### 建立映射字典"
   ]
  },
  {
   "cell_type": "code",
   "execution_count": 2,
   "metadata": {
    "ExecuteTime": {
     "end_time": "2019-07-09T17:30:45.191016Z",
     "start_time": "2019-07-09T17:30:45.176006Z"
    }
   },
   "outputs": [],
   "source": [
    "with open('popular_playlist.pkl', 'rb') as f:\n",
    "    id_name_dic = pickle.load(f, encoding = 'utf-8')\n",
    "name_id_dic = {values:key for key, values in id_name_dic.items()}"
   ]
  },
  {
   "cell_type": "markdown",
   "metadata": {},
   "source": [
    "### 读取文件和训练"
   ]
  },
  {
   "cell_type": "code",
   "execution_count": 3,
   "metadata": {
    "ExecuteTime": {
     "end_time": "2019-07-09T17:30:47.767243Z",
     "start_time": "2019-07-09T17:30:45.913204Z"
    }
   },
   "outputs": [
    {
     "name": "stdout",
     "output_type": "stream",
     "text": [
      "Estimating biases using als...\n",
      "Computing the msd similarity matrix...\n",
      "Done computing similarity matrix.\n"
     ]
    },
    {
     "data": {
      "text/plain": [
       "<surprise.prediction_algorithms.knns.KNNBaseline at 0x23d304bfa90>"
      ]
     },
     "execution_count": 3,
     "metadata": {},
     "output_type": "execute_result"
    }
   ],
   "source": [
    "file_path = 'popular_music_suprise_format.txt'\n",
    "reader = Reader(line_format = 'user item rating timestamp', sep = ',')\n",
    "music_data = Dataset.load_from_file(file_path, reader = reader)\n",
    "trainset = music_data.build_full_trainset()\n",
    "#sim_options = {'name':'pearson_baseline', 'user_based':False}\n",
    "algo = KNNBaseline()\n",
    "algo.fit(trainset)"
   ]
  },
  {
   "cell_type": "code",
   "execution_count": 4,
   "metadata": {
    "ExecuteTime": {
     "end_time": "2019-07-09T17:30:47.891324Z",
     "start_time": "2019-07-09T17:30:47.883318Z"
    }
   },
   "outputs": [
    {
     "name": "stdout",
     "output_type": "stream",
     "text": [
      "50539 153250 1076\n"
     ]
    }
   ],
   "source": [
    "print(trainset.n_items, trainset.n_ratings, trainset.n_users)"
   ]
  },
  {
   "cell_type": "markdown",
   "metadata": {
    "ExecuteTime": {
     "end_time": "2019-07-08T06:17:11.974888Z",
     "start_time": "2019-07-08T06:17:11.965881Z"
    }
   },
   "source": [
    "### 寻找最相近的10个user（此处是歌单）"
   ]
  },
  {
   "cell_type": "code",
   "execution_count": 5,
   "metadata": {
    "ExecuteTime": {
     "end_time": "2019-07-09T17:30:48.200534Z",
     "start_time": "2019-07-09T17:30:47.983388Z"
    }
   },
   "outputs": [
    {
     "name": "stdout",
     "output_type": "stream",
     "text": [
      "[1, 2, 3, 4, 5, 6, 7, 8, 9, 11]\n"
     ]
    }
   ],
   "source": [
    "##映射出内部id\n",
    "current_playlist = list(name_id_dic.keys())[13]\n",
    "playlist_id = name_id_dic[current_playlist]\n",
    "playlist_inner_id = algo.trainset.to_inner_uid(playlist_id)\n",
    "\n",
    "playlist_neighbors = algo.get_neighbors(playlist_inner_id, k=10)\n",
    "print(playlist_neighbors)"
   ]
  },
  {
   "cell_type": "code",
   "execution_count": 6,
   "metadata": {
    "ExecuteTime": {
     "end_time": "2019-07-09T17:30:48.543376Z",
     "start_time": "2019-07-09T17:30:48.278586Z"
    }
   },
   "outputs": [
    {
     "name": "stdout",
     "output_type": "stream",
     "text": [
      " 与歌单老旧扬声器里的华语经典 相似的10个歌单为\n",
      "\n",
      "当过千评论的华语翻唱遇上“原唱”【更新】\n",
      "第四季中国好声音第三期原唱及翻唱\n",
      "【华语】暖心物语 纯白思念\n",
      "〖循环〗单曲循环是强迫症吗？\n",
      "周杰伦地表最强演唱会2017520南京站曲目\n",
      "简单的爱总是那么吸引人\n",
      "别让时光偷走你上扬的嘴角\n",
      "大神爱翻唱1：华语篇\n",
      "国语VS闽南语 给你最强听觉冲击\n",
      "雾霾诗集\n"
     ]
    }
   ],
   "source": [
    "print(' 与歌单%s 相似的10个歌单为\\n'%(current_playlist))\n",
    "for name in [id_name_dic[algo.trainset.to_raw_uid(neighbors)] for neighbors in playlist_neighbors]:\n",
    "    print(name)"
   ]
  },
  {
   "cell_type": "markdown",
   "metadata": {},
   "source": [
    "### 针对user进行预测"
   ]
  },
  {
   "cell_type": "code",
   "execution_count": 7,
   "metadata": {
    "ExecuteTime": {
     "end_time": "2019-07-09T17:30:49.042085Z",
     "start_time": "2019-07-09T17:30:48.616427Z"
    }
   },
   "outputs": [],
   "source": [
    "##歌曲id映射\n",
    "with open('popular_song.pkl', 'rb') as f:\n",
    "    song_id_name_dic = pickle.load(f, encoding = 'utf-8')\n",
    "song_name_id_dic = {values: keys for keys, values in song_id_name_dic.items()}"
   ]
  },
  {
   "cell_type": "code",
   "execution_count": 8,
   "metadata": {
    "ExecuteTime": {
     "end_time": "2019-07-09T17:30:49.655197Z",
     "start_time": "2019-07-09T17:30:49.588154Z"
    }
   },
   "outputs": [
    {
     "name": "stdout",
     "output_type": "stream",
     "text": [
      "user: 4          item: 478        r_ui = 1.00   est = 1.00   {'was_impossible': False} 听见下雨的声音\t魏如昀\n",
      "user: 4          item: 429        r_ui = 1.00   est = 1.00   {'was_impossible': False} 梦一场\t萧敬腾\n",
      "user: 4          item: 936        r_ui = 1.00   est = 1.00   {'was_impossible': False} 干杯\t西瓜Kune\n",
      "user: 4          item: 937        r_ui = 1.00   est = 1.00   {'was_impossible': False} 给自己的歌 (Live) - live\t纵贯线\n",
      "user: 4          item: 938        r_ui = 1.00   est = 1.00   {'was_impossible': False} 小半\t陈粒\n",
      "user: 4          item: 939        r_ui = 1.00   est = 1.00   {'was_impossible': False} 思念是一种病(Live) - live\t张震岳\n",
      "user: 4          item: 940        r_ui = 1.00   est = 1.00   {'was_impossible': False} 可以不可以\t丁当\n",
      "user: 4          item: 941        r_ui = 1.00   est = 1.00   {'was_impossible': False} 秋酿\t房东的猫\n",
      "user: 4          item: 616        r_ui = 1.00   est = 1.00   {'was_impossible': False} 退后\t周杰伦\n",
      "user: 4          item: 942        r_ui = 1.00   est = 1.00   {'was_impossible': False} 阴天\t莫文蔚\n",
      "user: 4          item: 943        r_ui = 1.00   est = 1.00   {'was_impossible': False} 痛爱\t容祖儿\n",
      "user: 4          item: 944        r_ui = 1.00   est = 1.00   {'was_impossible': False} 二十世纪少年(Unplugged) - unplug\tPing Pung\n",
      "user: 4          item: 945        r_ui = 1.00   est = 1.00   {'was_impossible': False} 前所未见\t陈慧琳\n",
      "user: 4          item: 946        r_ui = 1.00   est = 1.00   {'was_impossible': False} 追梦赤子心\tGALA\n",
      "user: 4          item: 947        r_ui = 1.00   est = 1.00   {'was_impossible': False} 如果你也听说\t张惠妹\n",
      "user: 4          item: 948        r_ui = 1.00   est = 1.00   {'was_impossible': False} 寄生\t吴克羣\n",
      "user: 4          item: 949        r_ui = 1.00   est = 1.00   {'was_impossible': False} 怎么唱情歌\t刘惜君\n",
      "user: 4          item: 55         r_ui = 1.00   est = 1.00   {'was_impossible': False} 忽然之间\t巴士那\n",
      "user: 4          item: 950        r_ui = 1.00   est = 1.00   {'was_impossible': False} 烟霞\t容祖儿\n",
      "user: 4          item: 138        r_ui = 1.00   est = 1.00   {'was_impossible': False} 小幸运\t双笙\n",
      "user: 4          item: 951        r_ui = 1.00   est = 1.00   {'was_impossible': False} 错过\t王铮亮\n",
      "user: 4          item: 952        r_ui = 1.00   est = 1.00   {'was_impossible': False} 泪海\t许茹芸\n",
      "user: 4          item: 453        r_ui = 1.00   est = 1.00   {'was_impossible': False} 外面的世界\t莫文蔚\n",
      "user: 4          item: 840        r_ui = 1.00   est = 1.00   {'was_impossible': False} 短发\t梁咏琪\n",
      "user: 4          item: 953        r_ui = 1.00   est = 1.00   {'was_impossible': False} 遗憾\t方炯镔\n",
      "user: 4          item: 954        r_ui = 1.00   est = 1.00   {'was_impossible': False} 假如让我说下去\t杨千嬅\n",
      "user: 4          item: 955        r_ui = 1.00   est = 1.00   {'was_impossible': False} 爱你\t许志安\n",
      "user: 4          item: 956        r_ui = 1.00   est = 1.00   {'was_impossible': False} 你的手信\t陈慧敏\n",
      "user: 4          item: 352        r_ui = 1.00   est = 1.00   {'was_impossible': False} 遗憾\t许美静\n",
      "user: 4          item: 957        r_ui = 1.00   est = 1.00   {'was_impossible': False} 无终\t谢春花\n",
      "user: 4          item: 958        r_ui = 1.00   est = 1.00   {'was_impossible': False} 骄傲的少年\t南征北战\n",
      "user: 4          item: 959        r_ui = 1.00   est = 1.00   {'was_impossible': False} 一个人一座城\t曹寅\n",
      "user: 4          item: 960        r_ui = 1.00   est = 1.00   {'was_impossible': False} 好得很\t麦家瑜\n",
      "user: 4          item: 961        r_ui = 1.00   est = 1.00   {'was_impossible': False} 终身美丽\t郑秀文\n",
      "user: 4          item: 962        r_ui = 1.00   est = 1.00   {'was_impossible': False} 倾城\t许美静\n",
      "user: 4          item: 963        r_ui = 1.00   est = 1.00   {'was_impossible': False} 想要你知道\t许亚童\n",
      "user: 4          item: 964        r_ui = 1.00   est = 1.00   {'was_impossible': False} 忆她\t赵烁\n",
      "user: 4          item: 965        r_ui = 1.00   est = 1.00   {'was_impossible': False} 边走边唱\t李荣浩\n",
      "user: 4          item: 966        r_ui = 1.00   est = 1.00   {'was_impossible': False} 再见只是陌生人\t庄心妍\n",
      "user: 4          item: 967        r_ui = 1.00   est = 1.00   {'was_impossible': False} 每条伤心的大街\t飘乐队\n",
      "user: 4          item: 968        r_ui = 1.00   est = 1.00   {'was_impossible': False} 死结\t李玖哲\n",
      "user: 4          item: 969        r_ui = 1.00   est = 1.00   {'was_impossible': False} 我是你的影子\tXun(易硕成)\n",
      "user: 4          item: 970        r_ui = 1.00   est = 1.00   {'was_impossible': False} 孤儿仔\t陈奕迅\n",
      "user: 4          item: 971        r_ui = 1.00   est = 1.00   {'was_impossible': False} 霜雪千年\t双笙\n",
      "user: 4          item: 972        r_ui = 1.00   est = 1.00   {'was_impossible': False} 想起小时候\t前冲\n",
      "user: 4          item: 755        r_ui = 1.00   est = 1.00   {'was_impossible': False} 给自己的情书\t王菲\n",
      "user: 4          item: 279        r_ui = 1.00   est = 1.00   {'was_impossible': False} 情非得已\t庾澄庆\n",
      "user: 4          item: 973        r_ui = 1.00   est = 1.00   {'was_impossible': False} 听说爱情回来过(Live) - live\t张敬轩\n",
      "user: 4          item: 715        r_ui = 1.00   est = 1.00   {'was_impossible': False} 至少还有你\t林忆莲\n",
      "user: 4          item: 974        r_ui = 1.00   est = 1.00   {'was_impossible': False} 致自己\t齐一\n",
      "user: 4          item: 975        r_ui = 1.00   est = 1.00   {'was_impossible': False} 可惜我不是他\tXun\n",
      "user: 4          item: 976        r_ui = 1.00   est = 1.00   {'was_impossible': False} 恋人心\t魏新雨\n",
      "user: 4          item: 977        r_ui = 1.00   est = 1.00   {'was_impossible': False} 美好事物\t房东的猫\n",
      "user: 4          item: 978        r_ui = 1.00   est = 1.00   {'was_impossible': False} 你就要走了\t花粥\n",
      "user: 4          item: 979        r_ui = 1.00   est = 1.00   {'was_impossible': False} 一半\t薛之谦\n",
      "user: 4          item: 259        r_ui = 1.00   est = 1.00   {'was_impossible': False} 斑马斑马 - 翻唱\t房东的猫\n",
      "user: 4          item: 980        r_ui = 1.00   est = 1.00   {'was_impossible': False} 还想听你的故事\t谢春花\n",
      "user: 4          item: 981        r_ui = 1.00   est = 1.00   {'was_impossible': False} 房间\t刘瑞琦\n",
      "user: 4          item: 982        r_ui = 1.00   est = 1.00   {'was_impossible': False} 狮子座(live)\t曾轶可\n",
      "user: 4          item: 611        r_ui = 1.00   est = 1.00   {'was_impossible': False} 青花瓷\t周杰伦\n",
      "user: 4          item: 983        r_ui = 1.00   est = 1.00   {'was_impossible': False} 目前\t洪卓立\n",
      "user: 4          item: 984        r_ui = 1.00   est = 1.00   {'was_impossible': False} 月球下的人\t李幸倪\n",
      "user: 4          item: 985        r_ui = 1.00   est = 1.00   {'was_impossible': False} 明明\t钟一宪\n",
      "user: 4          item: 986        r_ui = 1.00   est = 1.00   {'was_impossible': False} 一棵会开花的树(demo)\t谢春花\n",
      "user: 4          item: 987        r_ui = 1.00   est = 1.00   {'was_impossible': False} 借我\t谢春花\n",
      "user: 4          item: 209        r_ui = 1.00   est = 1.00   {'was_impossible': False} 丑八怪\t薛之谦\n",
      "user: 4          item: 988        r_ui = 1.00   est = 1.00   {'was_impossible': False} 习惯失恋\t容祖儿\n",
      "user: 4          item: 989        r_ui = 1.00   est = 1.00   {'was_impossible': False} 红玫瑰\t陈奕迅\n",
      "user: 4          item: 192        r_ui = 1.00   est = 1.00   {'was_impossible': False} 漂洋过海来看你\t周深\n",
      "user: 4          item: 990        r_ui = 1.00   est = 1.00   {'was_impossible': False} 那女孩对我说\t黄义达\n",
      "user: 4          item: 991        r_ui = 1.00   est = 1.00   {'was_impossible': False} 后来\t群星\n",
      "user: 4          item: 992        r_ui = 1.00   est = 1.00   {'was_impossible': False} 喜剧之王\t李荣浩\n",
      "user: 4          item: 993        r_ui = 1.00   est = 1.00   {'was_impossible': False} 爱你\t陈芳语\n",
      "user: 4          item: 994        r_ui = 1.00   est = 1.00   {'was_impossible': False} 我爱你\t卢广仲\n",
      "user: 4          item: 995        r_ui = 1.00   est = 1.00   {'was_impossible': False} 遇见你的时候所有星星都落到我头上\t高姗\n",
      "user: 4          item: 996        r_ui = 1.00   est = 1.00   {'was_impossible': False} 一身诗意千寻瀑\t不才\n",
      "user: 4          item: 997        r_ui = 1.00   est = 1.00   {'was_impossible': False} 你在烦恼什么\t苏打绿\n",
      "user: 4          item: 998        r_ui = 1.00   est = 1.00   {'was_impossible': False} 我为自己代言\t魏晨\n",
      "user: 4          item: 141        r_ui = 1.00   est = 1.00   {'was_impossible': False} 夜空中最亮的星\t逃跑计划\n",
      "user: 4          item: 999        r_ui = 1.00   est = 1.00   {'was_impossible': False} 阴天快乐\t陈奕迅\n",
      "user: 4          item: 132        r_ui = 1.00   est = 1.00   {'was_impossible': False} 原谅\t张玉华\n",
      "user: 4          item: 1000       r_ui = 1.00   est = 1.00   {'was_impossible': False} 放过自己\t庄心妍\n",
      "user: 4          item: 1001       r_ui = 1.00   est = 1.00   {'was_impossible': False} 最好的我\t龚芝怡\n",
      "user: 4          item: 317        r_ui = 1.00   est = 1.00   {'was_impossible': False} 爱一点\t莫艳琳\n",
      "user: 4          item: 1002       r_ui = 1.00   est = 1.00   {'was_impossible': False} 陪我看日出\t蔡淳佳\n",
      "user: 4          item: 1003       r_ui = 1.00   est = 1.00   {'was_impossible': False} 幸福了 然后呢\tA-Lin\n",
      "user: 4          item: 1004       r_ui = 1.00   est = 1.00   {'was_impossible': False} 耿耿于怀\t麦浚龙\n",
      "user: 4          item: 1005       r_ui = 1.00   est = 1.00   {'was_impossible': False} 不说出的温柔\t范逸臣\n",
      "user: 4          item: 1006       r_ui = 1.00   est = 1.00   {'was_impossible': False} 初爱\t杨宗纬\n",
      "user: 4          item: 1007       r_ui = 1.00   est = 1.00   {'was_impossible': False} 只不过是\t花粥\n",
      "user: 4          item: 1008       r_ui = 1.00   est = 1.00   {'was_impossible': False} 理想三旬\t陈鸿宇\n",
      "user: 4          item: 137        r_ui = 1.00   est = 1.00   {'was_impossible': False} 小幸运（Cover 田馥甄）\t金玟岐\n",
      "user: 4          item: 1009       r_ui = 1.00   est = 1.00   {'was_impossible': False} 那又如何\t应嘉俐\n",
      "user: 4          item: 1010       r_ui = 1.00   est = 1.00   {'was_impossible': False} 小相思\t花粥\n",
      "user: 4          item: 1011       r_ui = 1.00   est = 1.00   {'was_impossible': False} 我不难过\t孙燕姿\n",
      "user: 4          item: 1012       r_ui = 1.00   est = 1.00   {'was_impossible': False} 你看不到的天空\t蔡旻佑\n",
      "user: 4          item: 1013       r_ui = 1.00   est = 1.00   {'was_impossible': False} 耿耿于怀\t王笑文\n",
      "user: 4          item: 1014       r_ui = 1.00   est = 1.00   {'was_impossible': False} 试探\t王般若\n",
      "user: 4          item: 1015       r_ui = 1.00   est = 1.00   {'was_impossible': False} 有你陪伴的夏天\t黄婧\n",
      "user: 4          item: 1016       r_ui = 1.00   est = 1.00   {'was_impossible': False} 不说再见\t好妹妹乐队\n"
     ]
    }
   ],
   "source": [
    "user_inner_id = 4\n",
    "user_rating = trainset.ur[user_inner_id]\n",
    "items = [item for (item, rating) in user_rating]\n",
    "for song in items:\n",
    "    print(algo.predict(user_inner_id, song, r_ui=1), song_id_name_dic[algo.trainset.to_raw_iid(song)])"
   ]
  },
  {
   "cell_type": "markdown",
   "metadata": {},
   "source": [
    "## 使用矩阵分解"
   ]
  },
  {
   "cell_type": "code",
   "execution_count": 9,
   "metadata": {
    "ExecuteTime": {
     "end_time": "2019-07-09T17:31:20.230304Z",
     "start_time": "2019-07-09T17:30:57.065923Z"
    }
   },
   "outputs": [
    {
     "data": {
      "text/plain": [
       "<surprise.prediction_algorithms.matrix_factorization.NMF at 0x23d304bfef0>"
      ]
     },
     "execution_count": 9,
     "metadata": {},
     "output_type": "execute_result"
    }
   ],
   "source": [
    "from surprise import NMF, Dataset, evaluate, Reader\n",
    "import pickle\n",
    "\n",
    "file_path = 'popular_music_suprise_format.txt'\n",
    "reader = Reader(line_format = 'user item rating timestamp', sep = ',')\n",
    "music_data = Dataset.load_from_file(file_path, reader = reader)\n",
    "algo = NMF()\n",
    "trainset = music_data.build_full_trainset()\n",
    "algo.fit(trainset)"
   ]
  },
  {
   "cell_type": "code",
   "execution_count": 10,
   "metadata": {
    "ExecuteTime": {
     "end_time": "2019-07-09T17:31:21.004548Z",
     "start_time": "2019-07-09T17:31:20.842149Z"
    }
   },
   "outputs": [],
   "source": [
    "with open('popular_song.pkl', 'rb') as f:\n",
    "    song_id_name_dic = pickle.load(f, encoding = 'utf-8')\n",
    "song_name_id_dic = {value: key for key, value in song_id_name_dic.items()}"
   ]
  },
  {
   "cell_type": "code",
   "execution_count": 11,
   "metadata": {
    "ExecuteTime": {
     "end_time": "2019-07-09T17:31:21.595014Z",
     "start_time": "2019-07-09T17:31:21.526969Z"
    }
   },
   "outputs": [
    {
     "name": "stdout",
     "output_type": "stream",
     "text": [
      "user: 4          item: 478        r_ui = 1.00   est = 1.00   {'reason': 'User and item are unkown.', 'was_impossible': True} 听见下雨的声音\t魏如昀\n",
      "user: 4          item: 429        r_ui = 1.00   est = 1.00   {'reason': 'User and item are unkown.', 'was_impossible': True} 梦一场\t萧敬腾\n",
      "user: 4          item: 936        r_ui = 1.00   est = 1.00   {'reason': 'User and item are unkown.', 'was_impossible': True} 干杯\t西瓜Kune\n",
      "user: 4          item: 937        r_ui = 1.00   est = 1.00   {'reason': 'User and item are unkown.', 'was_impossible': True} 给自己的歌 (Live) - live\t纵贯线\n",
      "user: 4          item: 938        r_ui = 1.00   est = 1.00   {'reason': 'User and item are unkown.', 'was_impossible': True} 小半\t陈粒\n",
      "user: 4          item: 939        r_ui = 1.00   est = 1.00   {'reason': 'User and item are unkown.', 'was_impossible': True} 思念是一种病(Live) - live\t张震岳\n",
      "user: 4          item: 940        r_ui = 1.00   est = 1.00   {'reason': 'User and item are unkown.', 'was_impossible': True} 可以不可以\t丁当\n",
      "user: 4          item: 941        r_ui = 1.00   est = 1.00   {'reason': 'User and item are unkown.', 'was_impossible': True} 秋酿\t房东的猫\n",
      "user: 4          item: 616        r_ui = 1.00   est = 1.00   {'reason': 'User and item are unkown.', 'was_impossible': True} 退后\t周杰伦\n",
      "user: 4          item: 942        r_ui = 1.00   est = 1.00   {'reason': 'User and item are unkown.', 'was_impossible': True} 阴天\t莫文蔚\n",
      "user: 4          item: 943        r_ui = 1.00   est = 1.00   {'reason': 'User and item are unkown.', 'was_impossible': True} 痛爱\t容祖儿\n",
      "user: 4          item: 944        r_ui = 1.00   est = 1.00   {'reason': 'User and item are unkown.', 'was_impossible': True} 二十世纪少年(Unplugged) - unplug\tPing Pung\n",
      "user: 4          item: 945        r_ui = 1.00   est = 1.00   {'reason': 'User and item are unkown.', 'was_impossible': True} 前所未见\t陈慧琳\n",
      "user: 4          item: 946        r_ui = 1.00   est = 1.00   {'reason': 'User and item are unkown.', 'was_impossible': True} 追梦赤子心\tGALA\n",
      "user: 4          item: 947        r_ui = 1.00   est = 1.00   {'reason': 'User and item are unkown.', 'was_impossible': True} 如果你也听说\t张惠妹\n",
      "user: 4          item: 948        r_ui = 1.00   est = 1.00   {'reason': 'User and item are unkown.', 'was_impossible': True} 寄生\t吴克羣\n",
      "user: 4          item: 949        r_ui = 1.00   est = 1.00   {'reason': 'User and item are unkown.', 'was_impossible': True} 怎么唱情歌\t刘惜君\n",
      "user: 4          item: 55         r_ui = 1.00   est = 1.00   {'reason': 'User and item are unkown.', 'was_impossible': True} 忽然之间\t巴士那\n",
      "user: 4          item: 950        r_ui = 1.00   est = 1.00   {'reason': 'User and item are unkown.', 'was_impossible': True} 烟霞\t容祖儿\n",
      "user: 4          item: 138        r_ui = 1.00   est = 1.00   {'reason': 'User and item are unkown.', 'was_impossible': True} 小幸运\t双笙\n",
      "user: 4          item: 951        r_ui = 1.00   est = 1.00   {'reason': 'User and item are unkown.', 'was_impossible': True} 错过\t王铮亮\n",
      "user: 4          item: 952        r_ui = 1.00   est = 1.00   {'reason': 'User and item are unkown.', 'was_impossible': True} 泪海\t许茹芸\n",
      "user: 4          item: 453        r_ui = 1.00   est = 1.00   {'reason': 'User and item are unkown.', 'was_impossible': True} 外面的世界\t莫文蔚\n",
      "user: 4          item: 840        r_ui = 1.00   est = 1.00   {'reason': 'User and item are unkown.', 'was_impossible': True} 短发\t梁咏琪\n",
      "user: 4          item: 953        r_ui = 1.00   est = 1.00   {'reason': 'User and item are unkown.', 'was_impossible': True} 遗憾\t方炯镔\n",
      "user: 4          item: 954        r_ui = 1.00   est = 1.00   {'reason': 'User and item are unkown.', 'was_impossible': True} 假如让我说下去\t杨千嬅\n",
      "user: 4          item: 955        r_ui = 1.00   est = 1.00   {'reason': 'User and item are unkown.', 'was_impossible': True} 爱你\t许志安\n",
      "user: 4          item: 956        r_ui = 1.00   est = 1.00   {'reason': 'User and item are unkown.', 'was_impossible': True} 你的手信\t陈慧敏\n",
      "user: 4          item: 352        r_ui = 1.00   est = 1.00   {'reason': 'User and item are unkown.', 'was_impossible': True} 遗憾\t许美静\n",
      "user: 4          item: 957        r_ui = 1.00   est = 1.00   {'reason': 'User and item are unkown.', 'was_impossible': True} 无终\t谢春花\n",
      "user: 4          item: 958        r_ui = 1.00   est = 1.00   {'reason': 'User and item are unkown.', 'was_impossible': True} 骄傲的少年\t南征北战\n",
      "user: 4          item: 959        r_ui = 1.00   est = 1.00   {'reason': 'User and item are unkown.', 'was_impossible': True} 一个人一座城\t曹寅\n",
      "user: 4          item: 960        r_ui = 1.00   est = 1.00   {'reason': 'User and item are unkown.', 'was_impossible': True} 好得很\t麦家瑜\n",
      "user: 4          item: 961        r_ui = 1.00   est = 1.00   {'reason': 'User and item are unkown.', 'was_impossible': True} 终身美丽\t郑秀文\n",
      "user: 4          item: 962        r_ui = 1.00   est = 1.00   {'reason': 'User and item are unkown.', 'was_impossible': True} 倾城\t许美静\n",
      "user: 4          item: 963        r_ui = 1.00   est = 1.00   {'reason': 'User and item are unkown.', 'was_impossible': True} 想要你知道\t许亚童\n",
      "user: 4          item: 964        r_ui = 1.00   est = 1.00   {'reason': 'User and item are unkown.', 'was_impossible': True} 忆她\t赵烁\n",
      "user: 4          item: 965        r_ui = 1.00   est = 1.00   {'reason': 'User and item are unkown.', 'was_impossible': True} 边走边唱\t李荣浩\n",
      "user: 4          item: 966        r_ui = 1.00   est = 1.00   {'reason': 'User and item are unkown.', 'was_impossible': True} 再见只是陌生人\t庄心妍\n",
      "user: 4          item: 967        r_ui = 1.00   est = 1.00   {'reason': 'User and item are unkown.', 'was_impossible': True} 每条伤心的大街\t飘乐队\n",
      "user: 4          item: 968        r_ui = 1.00   est = 1.00   {'reason': 'User and item are unkown.', 'was_impossible': True} 死结\t李玖哲\n",
      "user: 4          item: 969        r_ui = 1.00   est = 1.00   {'reason': 'User and item are unkown.', 'was_impossible': True} 我是你的影子\tXun(易硕成)\n",
      "user: 4          item: 970        r_ui = 1.00   est = 1.00   {'reason': 'User and item are unkown.', 'was_impossible': True} 孤儿仔\t陈奕迅\n",
      "user: 4          item: 971        r_ui = 1.00   est = 1.00   {'reason': 'User and item are unkown.', 'was_impossible': True} 霜雪千年\t双笙\n",
      "user: 4          item: 972        r_ui = 1.00   est = 1.00   {'reason': 'User and item are unkown.', 'was_impossible': True} 想起小时候\t前冲\n",
      "user: 4          item: 755        r_ui = 1.00   est = 1.00   {'reason': 'User and item are unkown.', 'was_impossible': True} 给自己的情书\t王菲\n",
      "user: 4          item: 279        r_ui = 1.00   est = 1.00   {'reason': 'User and item are unkown.', 'was_impossible': True} 情非得已\t庾澄庆\n",
      "user: 4          item: 973        r_ui = 1.00   est = 1.00   {'reason': 'User and item are unkown.', 'was_impossible': True} 听说爱情回来过(Live) - live\t张敬轩\n",
      "user: 4          item: 715        r_ui = 1.00   est = 1.00   {'reason': 'User and item are unkown.', 'was_impossible': True} 至少还有你\t林忆莲\n",
      "user: 4          item: 974        r_ui = 1.00   est = 1.00   {'reason': 'User and item are unkown.', 'was_impossible': True} 致自己\t齐一\n",
      "user: 4          item: 975        r_ui = 1.00   est = 1.00   {'reason': 'User and item are unkown.', 'was_impossible': True} 可惜我不是他\tXun\n",
      "user: 4          item: 976        r_ui = 1.00   est = 1.00   {'reason': 'User and item are unkown.', 'was_impossible': True} 恋人心\t魏新雨\n",
      "user: 4          item: 977        r_ui = 1.00   est = 1.00   {'reason': 'User and item are unkown.', 'was_impossible': True} 美好事物\t房东的猫\n",
      "user: 4          item: 978        r_ui = 1.00   est = 1.00   {'reason': 'User and item are unkown.', 'was_impossible': True} 你就要走了\t花粥\n",
      "user: 4          item: 979        r_ui = 1.00   est = 1.00   {'reason': 'User and item are unkown.', 'was_impossible': True} 一半\t薛之谦\n",
      "user: 4          item: 259        r_ui = 1.00   est = 1.00   {'reason': 'User and item are unkown.', 'was_impossible': True} 斑马斑马 - 翻唱\t房东的猫\n",
      "user: 4          item: 980        r_ui = 1.00   est = 1.00   {'reason': 'User and item are unkown.', 'was_impossible': True} 还想听你的故事\t谢春花\n",
      "user: 4          item: 981        r_ui = 1.00   est = 1.00   {'reason': 'User and item are unkown.', 'was_impossible': True} 房间\t刘瑞琦\n",
      "user: 4          item: 982        r_ui = 1.00   est = 1.00   {'reason': 'User and item are unkown.', 'was_impossible': True} 狮子座(live)\t曾轶可\n",
      "user: 4          item: 611        r_ui = 1.00   est = 1.00   {'reason': 'User and item are unkown.', 'was_impossible': True} 青花瓷\t周杰伦\n",
      "user: 4          item: 983        r_ui = 1.00   est = 1.00   {'reason': 'User and item are unkown.', 'was_impossible': True} 目前\t洪卓立\n",
      "user: 4          item: 984        r_ui = 1.00   est = 1.00   {'reason': 'User and item are unkown.', 'was_impossible': True} 月球下的人\t李幸倪\n",
      "user: 4          item: 985        r_ui = 1.00   est = 1.00   {'reason': 'User and item are unkown.', 'was_impossible': True} 明明\t钟一宪\n",
      "user: 4          item: 986        r_ui = 1.00   est = 1.00   {'reason': 'User and item are unkown.', 'was_impossible': True} 一棵会开花的树(demo)\t谢春花\n",
      "user: 4          item: 987        r_ui = 1.00   est = 1.00   {'reason': 'User and item are unkown.', 'was_impossible': True} 借我\t谢春花\n",
      "user: 4          item: 209        r_ui = 1.00   est = 1.00   {'reason': 'User and item are unkown.', 'was_impossible': True} 丑八怪\t薛之谦\n",
      "user: 4          item: 988        r_ui = 1.00   est = 1.00   {'reason': 'User and item are unkown.', 'was_impossible': True} 习惯失恋\t容祖儿\n",
      "user: 4          item: 989        r_ui = 1.00   est = 1.00   {'reason': 'User and item are unkown.', 'was_impossible': True} 红玫瑰\t陈奕迅\n",
      "user: 4          item: 192        r_ui = 1.00   est = 1.00   {'reason': 'User and item are unkown.', 'was_impossible': True} 漂洋过海来看你\t周深\n",
      "user: 4          item: 990        r_ui = 1.00   est = 1.00   {'reason': 'User and item are unkown.', 'was_impossible': True} 那女孩对我说\t黄义达\n",
      "user: 4          item: 991        r_ui = 1.00   est = 1.00   {'reason': 'User and item are unkown.', 'was_impossible': True} 后来\t群星\n",
      "user: 4          item: 992        r_ui = 1.00   est = 1.00   {'reason': 'User and item are unkown.', 'was_impossible': True} 喜剧之王\t李荣浩\n",
      "user: 4          item: 993        r_ui = 1.00   est = 1.00   {'reason': 'User and item are unkown.', 'was_impossible': True} 爱你\t陈芳语\n",
      "user: 4          item: 994        r_ui = 1.00   est = 1.00   {'reason': 'User and item are unkown.', 'was_impossible': True} 我爱你\t卢广仲\n",
      "user: 4          item: 995        r_ui = 1.00   est = 1.00   {'reason': 'User and item are unkown.', 'was_impossible': True} 遇见你的时候所有星星都落到我头上\t高姗\n",
      "user: 4          item: 996        r_ui = 1.00   est = 1.00   {'reason': 'User and item are unkown.', 'was_impossible': True} 一身诗意千寻瀑\t不才\n",
      "user: 4          item: 997        r_ui = 1.00   est = 1.00   {'reason': 'User and item are unkown.', 'was_impossible': True} 你在烦恼什么\t苏打绿\n",
      "user: 4          item: 998        r_ui = 1.00   est = 1.00   {'reason': 'User and item are unkown.', 'was_impossible': True} 我为自己代言\t魏晨\n",
      "user: 4          item: 141        r_ui = 1.00   est = 1.00   {'reason': 'User and item are unkown.', 'was_impossible': True} 夜空中最亮的星\t逃跑计划\n",
      "user: 4          item: 999        r_ui = 1.00   est = 1.00   {'reason': 'User and item are unkown.', 'was_impossible': True} 阴天快乐\t陈奕迅\n",
      "user: 4          item: 132        r_ui = 1.00   est = 1.00   {'reason': 'User and item are unkown.', 'was_impossible': True} 原谅\t张玉华\n",
      "user: 4          item: 1000       r_ui = 1.00   est = 1.00   {'reason': 'User and item are unkown.', 'was_impossible': True} 放过自己\t庄心妍\n",
      "user: 4          item: 1001       r_ui = 1.00   est = 1.00   {'reason': 'User and item are unkown.', 'was_impossible': True} 最好的我\t龚芝怡\n",
      "user: 4          item: 317        r_ui = 1.00   est = 1.00   {'reason': 'User and item are unkown.', 'was_impossible': True} 爱一点\t莫艳琳\n",
      "user: 4          item: 1002       r_ui = 1.00   est = 1.00   {'reason': 'User and item are unkown.', 'was_impossible': True} 陪我看日出\t蔡淳佳\n",
      "user: 4          item: 1003       r_ui = 1.00   est = 1.00   {'reason': 'User and item are unkown.', 'was_impossible': True} 幸福了 然后呢\tA-Lin\n",
      "user: 4          item: 1004       r_ui = 1.00   est = 1.00   {'reason': 'User and item are unkown.', 'was_impossible': True} 耿耿于怀\t麦浚龙\n",
      "user: 4          item: 1005       r_ui = 1.00   est = 1.00   {'reason': 'User and item are unkown.', 'was_impossible': True} 不说出的温柔\t范逸臣\n",
      "user: 4          item: 1006       r_ui = 1.00   est = 1.00   {'reason': 'User and item are unkown.', 'was_impossible': True} 初爱\t杨宗纬\n",
      "user: 4          item: 1007       r_ui = 1.00   est = 1.00   {'reason': 'User and item are unkown.', 'was_impossible': True} 只不过是\t花粥\n",
      "user: 4          item: 1008       r_ui = 1.00   est = 1.00   {'reason': 'User and item are unkown.', 'was_impossible': True} 理想三旬\t陈鸿宇\n",
      "user: 4          item: 137        r_ui = 1.00   est = 1.00   {'reason': 'User and item are unkown.', 'was_impossible': True} 小幸运（Cover 田馥甄）\t金玟岐\n",
      "user: 4          item: 1009       r_ui = 1.00   est = 1.00   {'reason': 'User and item are unkown.', 'was_impossible': True} 那又如何\t应嘉俐\n",
      "user: 4          item: 1010       r_ui = 1.00   est = 1.00   {'reason': 'User and item are unkown.', 'was_impossible': True} 小相思\t花粥\n",
      "user: 4          item: 1011       r_ui = 1.00   est = 1.00   {'reason': 'User and item are unkown.', 'was_impossible': True} 我不难过\t孙燕姿\n",
      "user: 4          item: 1012       r_ui = 1.00   est = 1.00   {'reason': 'User and item are unkown.', 'was_impossible': True} 你看不到的天空\t蔡旻佑\n",
      "user: 4          item: 1013       r_ui = 1.00   est = 1.00   {'reason': 'User and item are unkown.', 'was_impossible': True} 耿耿于怀\t王笑文\n",
      "user: 4          item: 1014       r_ui = 1.00   est = 1.00   {'reason': 'User and item are unkown.', 'was_impossible': True} 试探\t王般若\n",
      "user: 4          item: 1015       r_ui = 1.00   est = 1.00   {'reason': 'User and item are unkown.', 'was_impossible': True} 有你陪伴的夏天\t黄婧\n",
      "user: 4          item: 1016       r_ui = 1.00   est = 1.00   {'reason': 'User and item are unkown.', 'was_impossible': True} 不说再见\t好妹妹乐队\n"
     ]
    }
   ],
   "source": [
    "user_inner_id = 4\n",
    "user_rating = trainset.ur[user_inner_id]\n",
    "items = [item for (item, rating) in user_rating]\n",
    "for song in items:\n",
    "    print(algo.predict(user_inner_id, song, r_ui = 1.0), song_id_name_dic[trainset.to_raw_iid(song)])"
   ]
  },
  {
   "cell_type": "markdown",
   "metadata": {},
   "source": [
    "# 模型存储和载入"
   ]
  },
  {
   "cell_type": "code",
   "execution_count": 12,
   "metadata": {
    "ExecuteTime": {
     "end_time": "2019-07-09T17:31:22.653753Z",
     "start_time": "2019-07-09T17:31:22.191408Z"
    }
   },
   "outputs": [],
   "source": [
    "import surprise\n",
    "surprise.dump.dump('./recommedation.model', algo = algo)\n",
    "algo = surprise.dump.load('./recommedation.model')"
   ]
  },
  {
   "cell_type": "code",
   "execution_count": 13,
   "metadata": {
    "ExecuteTime": {
     "end_time": "2019-07-09T17:31:23.189110Z",
     "start_time": "2019-07-09T17:31:23.181106Z"
    }
   },
   "outputs": [
    {
     "data": {
      "text/plain": [
       "(None,\n",
       " <surprise.prediction_algorithms.matrix_factorization.NMF at 0x23d30a74668>)"
      ]
     },
     "execution_count": 13,
     "metadata": {},
     "output_type": "execute_result"
    }
   ],
   "source": [
    "algo"
   ]
  },
  {
   "cell_type": "markdown",
   "metadata": {},
   "source": [
    "# 不同的推荐算法评估"
   ]
  },
  {
   "cell_type": "code",
   "execution_count": 14,
   "metadata": {
    "ExecuteTime": {
     "end_time": "2019-07-09T17:31:24.707630Z",
     "start_time": "2019-07-09T17:31:23.723464Z"
    }
   },
   "outputs": [],
   "source": [
    "import os\n",
    "from surprise import Reader, Dataset\n",
    "file_path = 'popular_music_suprise_format.txt'\n",
    "reader = Reader(line_format = 'user item rating timestamp', sep = ',')\n",
    "music_data = Dataset.load_from_file(file_path, reader = reader)\n",
    "music_data.split(n_folds = 5)"
   ]
  },
  {
   "cell_type": "code",
   "execution_count": 15,
   "metadata": {
    "ExecuteTime": {
     "end_time": "2019-07-09T17:31:25.273996Z",
     "start_time": "2019-07-09T17:31:25.261988Z"
    }
   },
   "outputs": [
    {
     "data": {
      "text/plain": [
       "[('83315865', '1297650', 1.0, '1300000'),\n",
       " ('452880141', '326882', 1.0, '1300000'),\n",
       " ('43170093', '29812323', 1.0, '1300000'),\n",
       " ('435064329', '27927330', 1.0, '1300000'),\n",
       " ('26506598', '156228', 1.0, '1300000'),\n",
       " ('120213287', '185613', 1.0, '1300000'),\n",
       " ('137354902', '114037', 1.0, '1300000'),\n",
       " ('386638608', '27556170', 1.0, '1300000'),\n",
       " ('384483907', '288795', 1.0, '1300000'),\n",
       " ('4671456', '150623', 1.0, '1300000')]"
      ]
     },
     "execution_count": 15,
     "metadata": {},
     "output_type": "execute_result"
    }
   ],
   "source": [
    "music_data.raw_ratings[:10]"
   ]
  },
  {
   "cell_type": "code",
   "execution_count": 16,
   "metadata": {
    "ExecuteTime": {
     "end_time": "2019-07-09T17:31:31.924394Z",
     "start_time": "2019-07-09T17:31:25.804347Z"
    }
   },
   "outputs": [
    {
     "data": {
      "text/plain": [
       "{'fit_time': (0.23438525199890137,\n",
       "  0.27521848678588867,\n",
       "  0.3204069137573242,\n",
       "  0.29508042335510254,\n",
       "  0.2812633514404297),\n",
       " 'test_mae': array([0., 0., 0., 0., 0.]),\n",
       " 'test_rmse': array([0., 0., 0., 0., 0.]),\n",
       " 'test_time': (0.4140174388885498,\n",
       "  0.5661826133728027,\n",
       "  0.5198237895965576,\n",
       "  0.3750178813934326,\n",
       "  0.5368146896362305)}"
      ]
     },
     "execution_count": 16,
     "metadata": {},
     "output_type": "execute_result"
    }
   ],
   "source": [
    "from surprise import NormalPredictor\n",
    "from surprise.model_selection import cross_validate\n",
    "\n",
    "algo = NormalPredictor()\n",
    "perf = cross_validate(algo, music_data, measures=['RMSE', 'MAE'])\n",
    "perf"
   ]
  },
  {
   "cell_type": "code",
   "execution_count": 17,
   "metadata": {
    "ExecuteTime": {
     "end_time": "2019-07-09T17:31:39.579830Z",
     "start_time": "2019-07-09T17:31:32.526269Z"
    }
   },
   "outputs": [
    {
     "name": "stdout",
     "output_type": "stream",
     "text": [
      "Estimating biases using als...\n",
      "Estimating biases using als...\n",
      "Estimating biases using als...\n",
      "Estimating biases using als...\n",
      "Estimating biases using als...\n"
     ]
    }
   ],
   "source": [
    "from surprise import BaselineOnly\n",
    "from surprise.model_selection import cross_validate\n",
    "\n",
    "algo = BaselineOnly()\n",
    "perf = cross_validate(algo, music_data, measures = ['RMSE', 'MAE'])"
   ]
  },
  {
   "cell_type": "code",
   "execution_count": 18,
   "metadata": {
    "ExecuteTime": {
     "end_time": "2019-07-09T17:31:51.568270Z",
     "start_time": "2019-07-09T17:31:40.124697Z"
    }
   },
   "outputs": [
    {
     "name": "stdout",
     "output_type": "stream",
     "text": [
      "Computing the msd similarity matrix...\n",
      "Done computing similarity matrix.\n",
      "Computing the msd similarity matrix...\n",
      "Done computing similarity matrix.\n",
      "Computing the msd similarity matrix...\n",
      "Done computing similarity matrix.\n",
      "Computing the msd similarity matrix...\n",
      "Done computing similarity matrix.\n",
      "Computing the msd similarity matrix...\n",
      "Done computing similarity matrix.\n"
     ]
    },
    {
     "data": {
      "text/plain": [
       "{'fit_time': (0.21914219856262207,\n",
       "  0.17649316787719727,\n",
       "  0.17188453674316406,\n",
       "  0.18297123908996582,\n",
       "  0.19187474250793457),\n",
       " 'test_mae': array([0., 0., 0., 0., 0.]),\n",
       " 'test_rmse': array([0., 0., 0., 0., 0.]),\n",
       " 'test_time': (1.669342041015625,\n",
       "  1.7331862449645996,\n",
       "  1.6377153396606445,\n",
       "  1.6377146244049072,\n",
       "  1.7583675384521484)}"
      ]
     },
     "execution_count": 18,
     "metadata": {},
     "output_type": "execute_result"
    }
   ],
   "source": [
    "from surprise import KNNBasic\n",
    "from surprise.model_selection import cross_validate\n",
    "\n",
    "algo = KNNBasic()\n",
    "perf = cross_validate(algo, music_data, measures = ['RMSE', 'MAE'])\n",
    "perf"
   ]
  },
  {
   "cell_type": "code",
   "execution_count": 19,
   "metadata": {
    "ExecuteTime": {
     "end_time": "2019-07-09T17:32:04.449701Z",
     "start_time": "2019-07-09T17:31:52.198688Z"
    }
   },
   "outputs": [
    {
     "name": "stdout",
     "output_type": "stream",
     "text": [
      "Computing the msd similarity matrix...\n",
      "Done computing similarity matrix.\n",
      "Computing the msd similarity matrix...\n",
      "Done computing similarity matrix.\n",
      "Computing the msd similarity matrix...\n",
      "Done computing similarity matrix.\n",
      "Computing the msd similarity matrix...\n",
      "Done computing similarity matrix.\n",
      "Computing the msd similarity matrix...\n",
      "Done computing similarity matrix.\n"
     ]
    },
    {
     "data": {
      "text/plain": [
       "{'fit_time': (0.21146464347839355,\n",
       "  0.23438572883605957,\n",
       "  0.23605799674987793,\n",
       "  0.23438024520874023,\n",
       "  0.25174379348754883),\n",
       " 'test_mae': array([0., 0., 0., 0., 0.]),\n",
       " 'test_rmse': array([0., 0., 0., 0., 0.]),\n",
       " 'test_time': (1.7267959117889404,\n",
       "  1.602137565612793,\n",
       "  1.6509218215942383,\n",
       "  1.6209101676940918,\n",
       "  1.76170015335083)}"
      ]
     },
     "execution_count": 19,
     "metadata": {},
     "output_type": "execute_result"
    }
   ],
   "source": [
    "from surprise import KNNWithMeans\n",
    "from surprise.model_selection import cross_validate\n",
    "\n",
    "algo = KNNWithMeans()\n",
    "perf = cross_validate(algo, music_data, measures = ['RMSE', 'MAE'])\n",
    "perf"
   ]
  },
  {
   "cell_type": "code",
   "execution_count": 20,
   "metadata": {
    "ExecuteTime": {
     "end_time": "2019-07-09T17:33:37.916010Z",
     "start_time": "2019-07-09T17:33:19.735178Z"
    }
   },
   "outputs": [
    {
     "name": "stdout",
     "output_type": "stream",
     "text": [
      "Estimating biases using als...\n",
      "Computing the msd similarity matrix...\n",
      "Done computing similarity matrix.\n",
      "Estimating biases using als...\n",
      "Computing the msd similarity matrix...\n",
      "Done computing similarity matrix.\n",
      "Estimating biases using als...\n",
      "Computing the msd similarity matrix...\n",
      "Done computing similarity matrix.\n",
      "Estimating biases using als...\n",
      "Computing the msd similarity matrix...\n",
      "Done computing similarity matrix.\n",
      "Estimating biases using als...\n",
      "Computing the msd similarity matrix...\n",
      "Done computing similarity matrix.\n"
     ]
    },
    {
     "data": {
      "text/plain": [
       "{'fit_time': (0.8790373802185059,\n",
       "  0.7429711818695068,\n",
       "  0.8012757301330566,\n",
       "  0.7202973365783691,\n",
       "  0.7203996181488037),\n",
       " 'test_mae': array([0., 0., 0., 0., 0.]),\n",
       " 'test_rmse': array([0., 0., 0., 0., 0.]),\n",
       " 'test_time': (2.33626651763916,\n",
       "  2.923426389694214,\n",
       "  2.19986629486084,\n",
       "  2.1877710819244385,\n",
       "  2.308274507522583)}"
      ]
     },
     "execution_count": 20,
     "metadata": {},
     "output_type": "execute_result"
    }
   ],
   "source": [
    "from surprise import KNNBaseline\n",
    "from surprise.model_selection import cross_validate\n",
    "\n",
    "algo = KNNBaseline()\n",
    "perf =cross_validate(algo, music_data, measures = ['RMSE', 'MAE'])\n",
    "perf"
   ]
  },
  {
   "cell_type": "code",
   "execution_count": 21,
   "metadata": {
    "ExecuteTime": {
     "end_time": "2019-07-09T17:34:48.486182Z",
     "start_time": "2019-07-09T17:33:38.438862Z"
    }
   },
   "outputs": [
    {
     "data": {
      "text/plain": [
       "{'fit_time': (16.439724683761597,\n",
       "  11.640626192092896,\n",
       "  13.67088794708252,\n",
       "  11.705570220947266,\n",
       "  11.156784057617188),\n",
       " 'test_mae': array([0.01682847, 0.01702269, 0.01687655, 0.01707745, 0.01677412]),\n",
       " 'test_rmse': array([0.03656681, 0.03741667, 0.03712611, 0.03740246, 0.03685185]),\n",
       " 'test_time': (0.5771915912628174,\n",
       "  0.837554931640625,\n",
       "  0.6204135417938232,\n",
       "  0.5312743186950684,\n",
       "  0.40626955032348633)}"
      ]
     },
     "execution_count": 21,
     "metadata": {},
     "output_type": "execute_result"
    }
   ],
   "source": [
    "from surprise import SVD\n",
    "from surprise.model_selection import cross_validate\n",
    "\n",
    "algo = SVD()\n",
    "perf = cross_validate(algo, music_data, measures = ['RMSE', 'MAE'])\n",
    "perf"
   ]
  },
  {
   "cell_type": "code",
   "execution_count": 22,
   "metadata": {
    "ExecuteTime": {
     "end_time": "2019-07-09T18:38:14.205144Z",
     "start_time": "2019-07-09T17:34:49.074879Z"
    }
   },
   "outputs": [
    {
     "data": {
      "text/plain": [
       "{'fit_time': (749.1101882457733,\n",
       "  754.2631189823151,\n",
       "  748.7548055648804,\n",
       "  750.3649053573608,\n",
       "  747.4497148990631),\n",
       " 'test_mae': array([0.0065434 , 0.00643753, 0.00659157, 0.0065203 , 0.00662982]),\n",
       " 'test_rmse': array([0.01509312, 0.01475149, 0.0152187 , 0.0151625 , 0.01529261]),\n",
       " 'test_time': (10.516133069992065,\n",
       "  10.68801474571228,\n",
       "  10.719265460968018,\n",
       "  10.266117572784424,\n",
       "  10.250494480133057)}"
      ]
     },
     "execution_count": 22,
     "metadata": {},
     "output_type": "execute_result"
    }
   ],
   "source": [
    "from surprise import SVDpp\n",
    "from surprise.model_selection import cross_validate\n",
    "\n",
    "algo = SVDpp()\n",
    "perf = cross_validate(algo, music_data, measures = ['RMSE', 'MAE'])\n",
    "perf"
   ]
  },
  {
   "cell_type": "code",
   "execution_count": 24,
   "metadata": {
    "ExecuteTime": {
     "end_time": "2019-07-09T18:53:41.289480Z",
     "start_time": "2019-07-09T18:51:50.857735Z"
    }
   },
   "outputs": [
    {
     "data": {
      "text/plain": [
       "{'fit_time': (20.571425437927246,\n",
       "  21.439573287963867,\n",
       "  21.550687313079834,\n",
       "  21.672035217285156,\n",
       "  20.440409898757935),\n",
       " 'test_mae': array([0., 0., 0., 0., 0.]),\n",
       " 'test_rmse': array([0., 0., 0., 0., 0.]),\n",
       " 'test_time': (0.3704102039337158,\n",
       "  0.4072692394256592,\n",
       "  0.36324357986450195,\n",
       "  0.3692452907562256,\n",
       "  0.556365966796875)}"
      ]
     },
     "execution_count": 24,
     "metadata": {},
     "output_type": "execute_result"
    }
   ],
   "source": [
    "from surprise import NMF\n",
    "from surprise.model_selection import cross_validate\n",
    "\n",
    "algo = NMF()\n",
    "perf = cross_validate(algo, music_data, measures = ['RMSE', 'MAE'])\n",
    "perf"
   ]
  },
  {
   "cell_type": "markdown",
   "metadata": {},
   "source": [
    "# 歌曲序列建模"
   ]
  },
  {
   "cell_type": "markdown",
   "metadata": {},
   "source": [
    "## 训练得出歌曲的词向量"
   ]
  },
  {
   "cell_type": "code",
   "execution_count": 1,
   "metadata": {
    "ExecuteTime": {
     "end_time": "2019-07-10T06:11:26.584589Z",
     "start_time": "2019-07-10T06:01:30.189240Z"
    }
   },
   "outputs": [
    {
     "name": "stdout",
     "output_type": "stream",
     "text": [
      "song format error\n",
      "song format error\n",
      "song format error\n",
      "song format error\n",
      "song format error\n",
      "song format error\n",
      "song format error\n",
      "song format error\n",
      "song format error\n",
      "song format error\n",
      "song format error\n",
      "song format error\n",
      "song format error\n",
      "song format error\n",
      "song format error\n",
      "song format error\n",
      "song format error\n",
      "song format error\n"
     ]
    }
   ],
   "source": [
    "import multiprocessing\n",
    "import gensim\n",
    "import sys\n",
    "from random import shuffle\n",
    "\n",
    "cores = multiprocessing.cpu_count()\n",
    "\n",
    "def parse_playlist_get_sequence(in_line, playlist_sequence):\n",
    "    song_sequence = []\n",
    "    contents = in_line.strip().split('\\t')\n",
    "    for song in contents[1:]:\n",
    "        ##列表的第0个元素是歌单的信息，不是歌曲的信息\n",
    "        try:\n",
    "            song_id, song_name, artists, popularity = song.split(':::')\n",
    "            song_sequence.append(song_id)\n",
    "        except:\n",
    "            print('song format error')\n",
    "    for i in range(len(song_sequence)):\n",
    "        shuffle(song_sequence)\n",
    "        playlist_sequence.append(song_sequence)\n",
    "        \n",
    "def train_song2vec(in_file, out_file):\n",
    "    playlist_sequence = []\n",
    "    with open(in_file, 'r', encoding = 'utf-8') as f:\n",
    "        for line in f.readlines():\n",
    "            parse_playlist_get_sequence(line, playlist_sequence)\n",
    "    model = gensim.models.Word2Vec(sentences = playlist_sequence, size = 150, min_count = 3, window = 7, workers = cores)\n",
    "    model.save(out_file)\n",
    "\n",
    "train_song2vec('popular.playlist', 'song2vec.model')"
   ]
  },
  {
   "cell_type": "markdown",
   "metadata": {},
   "source": [
    "## 预测song2vec的相似度"
   ]
  },
  {
   "cell_type": "code",
   "execution_count": 10,
   "metadata": {
    "ExecuteTime": {
     "end_time": "2019-07-10T05:35:07.318427Z",
     "start_time": "2019-07-10T05:35:07.299413Z"
    }
   },
   "outputs": [],
   "source": [
    "import pickle \n",
    "with open('popular_song.pkl', 'rb') as f:\n",
    "    song_dic = pickle.load(f, encoding = 'utf-8')\n",
    "    model = gensim.models.Word2Vec.load('song2vec.model')"
   ]
  },
  {
   "cell_type": "code",
   "execution_count": 18,
   "metadata": {},
   "outputs": [
    {
     "name": "stdout",
     "output_type": "stream",
     "text": [
      "394653 坐在巷口的那对男女\t自然卷\n",
      "\n",
      "相似歌曲和相似度分别为\n",
      "\t ローリンガール\tまらしぃ 0.5940958261489868\n",
      "\t That Should Be Me\tJustin Bieber 0.5920975208282471\n",
      "\t Bones - Single\tAlex G 0.5910210609436035\n",
      "\t a little kiss\t美图秀秀 0.5642493963241577\n",
      "\t すすすす、すき、だあいすき\t山根万理奈 0.551602840423584\n",
      "\t Kate Moss\tMaximilian Hecker 0.547816812992096\n",
      "\t Right Here Where You Want It\tX-Ray Dog 0.5320639610290527\n",
      "\t 末日幻象\tFayzz 0.53162682056427\n",
      "\t L-O-V-E\tSiena Wu 0.5258373618125916\n",
      "\t CALL ME BABY\tEXO 0.5220599174499512\n",
      "\n",
      "\n",
      "413831050 星晴(Anky Hype Mix Re-drum)\tAnky\n",
      "\n",
      "相似歌曲和相似度分别为\n",
      "\t 水管的友情\t黄雨勋 0.738114595413208\n",
      "\t Try\t派伟俊 0.7175805568695068\n",
      "\t 周杰伦歌曲串烧-文武贝改编版\t文武贝 0.6703663468360901\n",
      "\t 明年今日 (Instrumental)\t群星 0.6585835218429565\n",
      "\t 十二月的奇迹EXO 纯吉他\t凡以三 0.6581536531448364\n",
      "\t 陶笛版本《再回首》\t史峰SzeFung 0.6496715545654297\n",
      "\t  海阔天空 吉他纯音乐\t徐涛 0.6465712785720825\n",
      "\t 红豆\t群星 0.641079843044281\n",
      "\t 张杰《看月亮爬上来》钢琴版（流行爵士）\t黎栩晴 0.6359755992889404\n",
      "\t 潇洒走一回\t群星 0.6167184114456177\n",
      "\n",
      "\n",
      "421110099 不再说分手 (Cover 王菀之)\t刘瑞琦\n",
      "\n",
      "相似歌曲和相似度分别为\n",
      "\t 哎呦\t左颜 0.7056404948234558\n",
      "\t 我的烦恼是你 (Cover 徐若瑄)\t刘瑞琦 0.5341656804084778\n",
      "\t 当我想你的时候\t汪峰 0.5142442584037781\n",
      "\t 我以为\t王心凌 0.49906620383262634\n",
      "\t 致姗姗来迟的你 \t阿肆 0.4958307147026062\n",
      "\t 勇气 (cover)\t万岁爺 0.473757803440094\n",
      "\t 还是一个人\t宇珩 0.46998682618141174\n",
      "\t 夜车（Cover 曾轶可）\t鹿子MIKA 0.4648667573928833\n",
      "\t 理想三旬\t陈鸿宇 0.4508952796459198\n",
      "\t 生活艰难\t庄心妍 0.4438565671443939\n",
      "\n",
      "\n",
      "28009095 上海往事\t果味VC\n",
      "\n",
      "相似歌曲和相似度分别为\n",
      "\t 觉是\t窦唯 0.9888066053390503\n",
      "\t 勋章\t钟立风 0.9555543065071106\n",
      "\t 雨过心晴\t孟庭苇 0.9527404308319092\n",
      "\t 乐乐哭哭\t五条人 0.9020105004310608\n",
      "\t 受够了\t萧亚轩 0.8910037279129028\n",
      "\t 红红的太阳西边儿走\t好妹妹乐队 0.8039092421531677\n",
      "\t 玩具大王\t林海峰 0.7241355180740356\n",
      "\t 银河的旋律\t彭健新 0.6665472984313965\n",
      "\t 旅程\t蔡依林 0.6638924479484558\n",
      "\t 再遇\t黄凯芹 0.6581317782402039\n",
      "\n",
      "\n",
      "194709 福星到\t郑少秋\n",
      "\n",
      "相似歌曲和相似度分别为\n",
      "\t 戏说人生\t罗文 0.989302396774292\n",
      "\t 锡晒你\t许冠杰 0.9889882802963257\n",
      "\t 甜蜜蜜\t黎明 0.9673222899436951\n",
      "\t 凝望\t张国荣 0.9615229368209839\n",
      "\t 我要给你全部的爱\t郭富城 0.9253891110420227\n",
      "\t 豪情永在心\t詹永俊 0.9245050549507141\n",
      "\t 最爱\t梁汉文 0.8254094123840332\n",
      "\t 少林与武当\t郑少秋 0.7989451289176941\n",
      "\t 亲密关系\t郑秀文 0.7985588312149048\n",
      "\t 遇见\t孙燕姿 0.7797408103942871\n",
      "\n",
      "\n"
     ]
    }
   ],
   "source": [
    "song_id_list = list(song_dic.keys())[1000: 1500: 100]\n",
    "for song_id in song_id_list:\n",
    "    result_song_list = model.wv.most_similar(song_id)\n",
    "    print(song_id, song_dic[song_id])\n",
    "    print('\\n相似歌曲和相似度分别为')\n",
    "    for song in result_song_list:\n",
    "        print('\\t', song_dic[song[0]], song[1])\n",
    "    print('\\n')"
   ]
  }
 ],
 "metadata": {
  "kernelspec": {
   "display_name": "tensorflow35",
   "language": "python",
   "name": "tensorflow35"
  },
  "language_info": {
   "codemirror_mode": {
    "name": "ipython",
    "version": 3
   },
   "file_extension": ".py",
   "mimetype": "text/x-python",
   "name": "python",
   "nbconvert_exporter": "python",
   "pygments_lexer": "ipython3",
   "version": "3.5.4"
  },
  "latex_envs": {
   "LaTeX_envs_menu_present": true,
   "autoclose": false,
   "autocomplete": true,
   "bibliofile": "biblio.bib",
   "cite_by": "apalike",
   "current_citInitial": 1,
   "eqLabelWithNumbers": true,
   "eqNumInitial": 1,
   "hotkeys": {
    "equation": "Ctrl-E",
    "itemize": "Ctrl-I"
   },
   "labels_anchors": false,
   "latex_user_defs": false,
   "report_style_numbering": false,
   "user_envs_cfg": false
  },
  "toc": {
   "base_numbering": 1,
   "nav_menu": {},
   "number_sections": true,
   "sideBar": true,
   "skip_h1_title": false,
   "title_cell": "Table of Contents",
   "title_sidebar": "Contents",
   "toc_cell": true,
   "toc_position": {},
   "toc_section_display": true,
   "toc_window_display": false
  },
  "varInspector": {
   "cols": {
    "lenName": 16,
    "lenType": 16,
    "lenVar": 40
   },
   "kernels_config": {
    "python": {
     "delete_cmd_postfix": "",
     "delete_cmd_prefix": "del ",
     "library": "var_list.py",
     "varRefreshCmd": "print(var_dic_list())"
    },
    "r": {
     "delete_cmd_postfix": ") ",
     "delete_cmd_prefix": "rm(",
     "library": "var_list.r",
     "varRefreshCmd": "cat(var_dic_list()) "
    }
   },
   "types_to_exclude": [
    "module",
    "function",
    "builtin_function_or_method",
    "instance",
    "_Feature"
   ],
   "window_display": false
  }
 },
 "nbformat": 4,
 "nbformat_minor": 2
}
