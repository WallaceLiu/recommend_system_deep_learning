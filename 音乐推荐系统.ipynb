{
 "cells": [
  {
   "cell_type": "markdown",
   "metadata": {
    "toc": true
   },
   "source": [
    "<h1>Table of Contents<span class=\"tocSkip\"></span></h1>\n",
    "<div class=\"toc\"><ul class=\"toc-item\"><li><span><a href=\"#从原始数据中提取所用信息\" data-toc-modified-id=\"从原始数据中提取所用信息-1\"><span class=\"toc-item-num\">1&nbsp;&nbsp;</span>从原始数据中提取所用信息</a></span></li><li><span><a href=\"#将已提取数据转化为推荐系统框架格式的数据：user-item-rating-timestamp\" data-toc-modified-id=\"将已提取数据转化为推荐系统框架格式的数据：user-item-rating-timestamp-2\"><span class=\"toc-item-num\">2&nbsp;&nbsp;</span>将已提取数据转化为推荐系统框架格式的数据：user item rating timestamp</a></span></li><li><span><a href=\"#保存歌单和歌曲信息\" data-toc-modified-id=\"保存歌单和歌曲信息-3\"><span class=\"toc-item-num\">3&nbsp;&nbsp;</span>保存歌单和歌曲信息</a></span></li><li><span><a href=\"#训练模型\" data-toc-modified-id=\"训练模型-4\"><span class=\"toc-item-num\">4&nbsp;&nbsp;</span>训练模型</a></span><ul class=\"toc-item\"><li><span><a href=\"#使用协同过滤\" data-toc-modified-id=\"使用协同过滤-4.1\"><span class=\"toc-item-num\">4.1&nbsp;&nbsp;</span>使用协同过滤</a></span><ul class=\"toc-item\"><li><span><a href=\"#建立映射字典\" data-toc-modified-id=\"建立映射字典-4.1.1\"><span class=\"toc-item-num\">4.1.1&nbsp;&nbsp;</span>建立映射字典</a></span></li><li><span><a href=\"#读取文件和训练\" data-toc-modified-id=\"读取文件和训练-4.1.2\"><span class=\"toc-item-num\">4.1.2&nbsp;&nbsp;</span>读取文件和训练</a></span></li><li><span><a href=\"#寻找最相近的10个user（此处是歌单）\" data-toc-modified-id=\"寻找最相近的10个user（此处是歌单）-4.1.3\"><span class=\"toc-item-num\">4.1.3&nbsp;&nbsp;</span>寻找最相近的 10 个 user（此处是歌单）</a></span></li><li><span><a href=\"#针对user进行预测\" data-toc-modified-id=\"针对user进行预测-4.1.4\"><span class=\"toc-item-num\">4.1.4&nbsp;&nbsp;</span>针对 user 进行预测</a></span></li></ul></li><li><span><a href=\"#使用矩阵分解\" data-toc-modified-id=\"使用矩阵分解-4.2\"><span class=\"toc-item-num\">4.2&nbsp;&nbsp;</span>使用矩阵分解</a></span></li></ul></li><li><span><a href=\"#模型存储和载入\" data-toc-modified-id=\"模型存储和载入-5\"><span class=\"toc-item-num\">5&nbsp;&nbsp;</span>模型存储和载入</a></span></li><li><span><a href=\"#算法评估\" data-toc-modified-id=\"算法评估-6\"><span class=\"toc-item-num\">6&nbsp;&nbsp;</span>算法评估</a></span></li></ul></div>"
   ]
  },
  {
   "cell_type": "markdown",
   "metadata": {},
   "source": [
    "# 从原始数据中提取所用信息"
   ]
  },
  {
   "cell_type": "code",
   "execution_count": null,
   "metadata": {
    "ExecuteTime": {
     "end_time": "2019-07-07T10:46:31.751382Z",
     "start_time": "2019-07-07T10:20:49.619565Z"
    }
   },
   "outputs": [],
   "source": [
    "import json\n",
    "import sys\n",
    "\n",
    "def parse_song_line(music_file):\n",
    "    data = json.loads(music_file)\n",
    "    name = data['result']['name']\n",
    "    tags = ','.join(data['result']['tags'])\n",
    "    subscribed_count = data['result']['subcribedCount']\n",
    "    if subscribed_count<100:\n",
    "        return False\n",
    "    playlist_id = data['result']['id']\n",
    "    song_info = ''\n",
    "    songs = data['result']['tracks']\n",
    "    for song in songs:\n",
    "        try:\n",
    "            song_info += '\\t'+':::'.join([str(song['id']), song['name'], song['artists'][0]['name'], str(song['popularity'])])\n",
    "        except:\n",
    "            continue\n",
    "    return name+'##'+tags+'##'+str(playlist_id)+'##'+str(subscribed_count)+song_info\n",
    "\n",
    "def parse_file(in_file, out_file):\n",
    "    with open(out_file, 'w') as f:\n",
    "        with open(in_file, 'r', encoding = 'utf-8') as g:\n",
    "            for line in g.readlines():\n",
    "                result = parse_song_line(line)\n",
    "                if result:\n",
    "                    print(result)\n",
    "                    f.write(result.encode('utf-8').strip() + '\\n')\n",
    "                \n",
    "parse_file('./playlist.detail.all/playlistdetail.all.json', './163_music_playlist.txt')"
   ]
  },
  {
   "cell_type": "markdown",
   "metadata": {},
   "source": [
    "# 将已提取数据转化为推荐系统框架格式的数据：user item rating timestamp"
   ]
  },
  {
   "cell_type": "code",
   "execution_count": null,
   "metadata": {},
   "outputs": [],
   "source": [
    "import json\n",
    "import sys\n",
    "\n",
    "def is_null(s):\n",
    "    return len(s.split(','))>2\n",
    "\n",
    "def parse_song_info(song_info):\n",
    "    try:\n",
    "        song_id, name, artist, popularity = song_info.split(':::')\n",
    "        return ','.join([song_id, '1.0', '1300000'])\n",
    "    ##评分时，因为原数据仅有是否收藏，因此分数统一写为1.0分\n",
    "    except:\n",
    "        return ''\n",
    "\n",
    "def parse_playlist_line(in_line):\n",
    "    try:\n",
    "        contents = in_line.strip().split('\\t')\n",
    "        name, tags, playlist_id, subscribed_count = content[0].split('##')\n",
    "        songs_info = map(lambda x: playlist_id+','+parse_song_info(x), contents[1:])\n",
    "        ##这里是以一个歌单为标准格式中的user\n",
    "        songs_info = filter(is_null, songs_info)\n",
    "        return '\\n'.join(songs_info)\n",
    "    except:\n",
    "        return False\n",
    "    \n",
    "def parse_file(in_file, out_file):\n",
    "    with open(out_file, 'w') as out:\n",
    "        with open(in_file, 'r', encoding = 'utf-8') as f:\n",
    "            for line in f.readlines():\n",
    "                result = parse_playlist_line(line)\n",
    "                if result:\n",
    "                    out.wirte(result.encode('utf-8').strip()+'\\n')\n",
    "\n",
    "parse_file(\"./163_music_playlist.txt\", \"./163_music_suprise_format.txt\")"
   ]
  },
  {
   "cell_type": "markdown",
   "metadata": {},
   "source": [
    "# 保存歌单和歌曲信息"
   ]
  },
  {
   "cell_type": "code",
   "execution_count": null,
   "metadata": {
    "ExecuteTime": {
     "end_time": "2019-07-07T11:45:54.887833Z",
     "start_time": "2019-07-07T11:45:54.880829Z"
    }
   },
   "outputs": [],
   "source": [
    "import pickle\n",
    "import sys\n",
    "\n",
    "def parse_playlist_get_info(in_line, playlist_dic, song_dic):\n",
    "    contents = in_line.strip().split('\\t')\n",
    "    name, tags, playlist_id, subscribed_count = contents[0].split('##')\n",
    "    playlist_dic[playlist_id] = name\n",
    "    for song in contents[1]:\n",
    "        try:\n",
    "            song_id, song_name, artist, popularity = song.split(':::')\n",
    "            song_dic[song_id] = song_name+'\\t'+artist\n",
    "        except:\n",
    "            print('song format error')\n",
    "            \n",
    "def parse_file(in_file, out_playlist, out_song):\n",
    "    playlist_dic = {}\n",
    "    song_dic = {}\n",
    "    with open(in_file, 'r') as f:\n",
    "        for line in f.readlines():\n",
    "            parse_playlist_get_info(line, playlist_dic, song_dic)\n",
    "            with open(out_playlist, 'wb') as f:\n",
    "                pickle.dump(playlist_dic, f)\n",
    "            with open(out_song, 'wb') as f:\n",
    "                pickle.dump(song_dic, f)\n",
    "\n",
    "parse_file('./163_music_playlist.txt', 'playlist.pkl', 'song.pkl')"
   ]
  },
  {
   "cell_type": "markdown",
   "metadata": {},
   "source": [
    "# 训练模型"
   ]
  },
  {
   "cell_type": "markdown",
   "metadata": {},
   "source": [
    "## 使用协同过滤"
   ]
  },
  {
   "cell_type": "code",
   "execution_count": 2,
   "metadata": {
    "ExecuteTime": {
     "end_time": "2019-07-08T06:14:58.637864Z",
     "start_time": "2019-07-08T06:14:55.869278Z"
    }
   },
   "outputs": [],
   "source": [
    "from surprise import Dataset, Reader, KNNBaseline\n",
    "import pickle\n",
    "import json\n",
    "import os"
   ]
  },
  {
   "cell_type": "markdown",
   "metadata": {},
   "source": [
    "### 建立映射字典"
   ]
  },
  {
   "cell_type": "code",
   "execution_count": 3,
   "metadata": {
    "ExecuteTime": {
     "end_time": "2019-07-08T06:14:58.974899Z",
     "start_time": "2019-07-08T06:14:58.666654Z"
    }
   },
   "outputs": [],
   "source": [
    "with open('popular_playlist.pkl', 'rb') as f:\n",
    "    id_name_dic = pickle.load(f, encoding = 'utf-8')\n",
    "name_id_dic = {values:key for key, values in id_name_dic.items()}"
   ]
  },
  {
   "cell_type": "markdown",
   "metadata": {},
   "source": [
    "### 读取文件和训练"
   ]
  },
  {
   "cell_type": "code",
   "execution_count": 21,
   "metadata": {
    "ExecuteTime": {
     "end_time": "2019-07-08T06:26:38.231903Z",
     "start_time": "2019-07-08T06:26:36.513624Z"
    }
   },
   "outputs": [
    {
     "name": "stdout",
     "output_type": "stream",
     "text": [
      "Estimating biases using als...\n",
      "Computing the msd similarity matrix...\n",
      "Done computing similarity matrix.\n"
     ]
    },
    {
     "data": {
      "text/plain": [
       "<surprise.prediction_algorithms.knns.KNNBaseline at 0x1e4d7ab9a20>"
      ]
     },
     "execution_count": 21,
     "metadata": {},
     "output_type": "execute_result"
    }
   ],
   "source": [
    "file_path = 'popular_music_suprise_format.txt'\n",
    "reader = Reader(line_format = 'user item rating timestamp', sep = ',')\n",
    "music_data = Dataset.load_from_file(file_path, reader = reader)\n",
    "trainset = music_data.build_full_trainset()\n",
    "#sim_options = {'name':'pearson_baseline', 'user_based':False}\n",
    "algo = KNNBaseline()\n",
    "algo.fit(trainset)"
   ]
  },
  {
   "cell_type": "code",
   "execution_count": 20,
   "metadata": {
    "ExecuteTime": {
     "end_time": "2019-07-08T06:23:06.600085Z",
     "start_time": "2019-07-08T06:23:06.592078Z"
    }
   },
   "outputs": [
    {
     "name": "stdout",
     "output_type": "stream",
     "text": [
      "50539 153250 1076\n"
     ]
    }
   ],
   "source": [
    "print(trainset.n_items, trainset.n_ratings, trainset.n_users)"
   ]
  },
  {
   "cell_type": "markdown",
   "metadata": {
    "ExecuteTime": {
     "end_time": "2019-07-08T06:17:11.974888Z",
     "start_time": "2019-07-08T06:17:11.965881Z"
    }
   },
   "source": [
    "### 寻找最相近的10个user（此处是歌单）"
   ]
  },
  {
   "cell_type": "code",
   "execution_count": 31,
   "metadata": {
    "ExecuteTime": {
     "end_time": "2019-07-08T06:41:34.911465Z",
     "start_time": "2019-07-08T06:41:34.895455Z"
    }
   },
   "outputs": [
    {
     "name": "stdout",
     "output_type": "stream",
     "text": [
      "[1, 2, 3, 6, 7, 12, 13, 14, 15, 17]\n"
     ]
    }
   ],
   "source": [
    "##映射出内部id\n",
    "current_playlist = list(name_id_dic.keys())[13]\n",
    "playlist_id = name_id_dic[current_playlist]\n",
    "playlist_inner_id = algo.trainset.to_inner_uid(playlist_id)\n",
    "\n",
    "playlist_neighbors = algo.get_neighbors(playlist_inner_id, k=10)\n",
    "print(playlist_neighbors)"
   ]
  },
  {
   "cell_type": "code",
   "execution_count": 48,
   "metadata": {
    "ExecuteTime": {
     "end_time": "2019-07-08T07:24:32.361079Z",
     "start_time": "2019-07-08T07:24:32.346069Z"
    }
   },
   "outputs": [
    {
     "name": "stdout",
     "output_type": "stream",
     "text": [
      " 与歌单成长岁月里100味华语男声 相似的10个歌单为\n",
      "\n",
      "当过千评论的华语翻唱遇上“原唱”【更新】\n",
      "第四季中国好声音第三期原唱及翻唱\n",
      "【华语】暖心物语 纯白思念\n",
      "简单的爱总是那么吸引人\n",
      "别让时光偷走你上扬的嘴角\n",
      "你就是我生命中最美丽的比喻句\n",
      "『华语/回忆』95后陪伴我中学时期的歌曲\n",
      "对不起，你是一个好人\n",
      "暗暗作祟| 不甘朋友不敢恋人\n",
      "有没有一首歌让你泪流满面\n"
     ]
    }
   ],
   "source": [
    "print(' 与歌单%s 相似的10个歌单为\\n'%(current_playlist))\n",
    "for name in [id_name_dic[algo.trainset.to_raw_uid(neighbors)] for neighbors in playlist_neighbors]:\n",
    "    print(name)"
   ]
  },
  {
   "cell_type": "markdown",
   "metadata": {},
   "source": [
    "### 针对user进行预测"
   ]
  },
  {
   "cell_type": "code",
   "execution_count": 52,
   "metadata": {
    "ExecuteTime": {
     "end_time": "2019-07-08T08:20:44.222092Z",
     "start_time": "2019-07-08T08:20:44.006957Z"
    }
   },
   "outputs": [],
   "source": [
    "##歌曲id映射\n",
    "with open('popular_song.pkl', 'rb') as f:\n",
    "    song_id_name_dic = pickle.load(f, encoding = 'utf-8')\n",
    "song_name_id_dic = {values: keys for keys, values in song_id_name_dic.items()}"
   ]
  },
  {
   "cell_type": "code",
   "execution_count": 61,
   "metadata": {
    "ExecuteTime": {
     "end_time": "2019-07-08T09:17:37.321079Z",
     "start_time": "2019-07-08T09:17:37.229018Z"
    }
   },
   "outputs": [
    {
     "name": "stdout",
     "output_type": "stream",
     "text": [
      "user: 4          item: 478        r_ui = 1.00   est = 1.00   {'was_impossible': False} 听见下雨的声音\t魏如昀\n",
      "user: 4          item: 429        r_ui = 1.00   est = 1.00   {'was_impossible': False} 梦一场\t萧敬腾\n",
      "user: 4          item: 936        r_ui = 1.00   est = 1.00   {'was_impossible': False} 干杯\t西瓜Kune\n",
      "user: 4          item: 937        r_ui = 1.00   est = 1.00   {'was_impossible': False} 给自己的歌 (Live) - live\t纵贯线\n",
      "user: 4          item: 938        r_ui = 1.00   est = 1.00   {'was_impossible': False} 小半\t陈粒\n",
      "user: 4          item: 939        r_ui = 1.00   est = 1.00   {'was_impossible': False} 思念是一种病(Live) - live\t张震岳\n",
      "user: 4          item: 940        r_ui = 1.00   est = 1.00   {'was_impossible': False} 可以不可以\t丁当\n",
      "user: 4          item: 941        r_ui = 1.00   est = 1.00   {'was_impossible': False} 秋酿\t房东的猫\n",
      "user: 4          item: 616        r_ui = 1.00   est = 1.00   {'was_impossible': False} 退后\t周杰伦\n",
      "user: 4          item: 942        r_ui = 1.00   est = 1.00   {'was_impossible': False} 阴天\t莫文蔚\n",
      "user: 4          item: 943        r_ui = 1.00   est = 1.00   {'was_impossible': False} 痛爱\t容祖儿\n",
      "user: 4          item: 944        r_ui = 1.00   est = 1.00   {'was_impossible': False} 二十世纪少年(Unplugged) - unplug\tPing Pung\n",
      "user: 4          item: 945        r_ui = 1.00   est = 1.00   {'was_impossible': False} 前所未见\t陈慧琳\n",
      "user: 4          item: 946        r_ui = 1.00   est = 1.00   {'was_impossible': False} 追梦赤子心\tGALA\n",
      "user: 4          item: 947        r_ui = 1.00   est = 1.00   {'was_impossible': False} 如果你也听说\t张惠妹\n",
      "user: 4          item: 948        r_ui = 1.00   est = 1.00   {'was_impossible': False} 寄生\t吴克羣\n",
      "user: 4          item: 949        r_ui = 1.00   est = 1.00   {'was_impossible': False} 怎么唱情歌\t刘惜君\n",
      "user: 4          item: 55         r_ui = 1.00   est = 1.00   {'was_impossible': False} 忽然之间\t巴士那\n",
      "user: 4          item: 950        r_ui = 1.00   est = 1.00   {'was_impossible': False} 烟霞\t容祖儿\n",
      "user: 4          item: 138        r_ui = 1.00   est = 1.00   {'was_impossible': False} 小幸运\t双笙\n",
      "user: 4          item: 951        r_ui = 1.00   est = 1.00   {'was_impossible': False} 错过\t王铮亮\n",
      "user: 4          item: 952        r_ui = 1.00   est = 1.00   {'was_impossible': False} 泪海\t许茹芸\n",
      "user: 4          item: 453        r_ui = 1.00   est = 1.00   {'was_impossible': False} 外面的世界\t莫文蔚\n",
      "user: 4          item: 840        r_ui = 1.00   est = 1.00   {'was_impossible': False} 短发\t梁咏琪\n",
      "user: 4          item: 953        r_ui = 1.00   est = 1.00   {'was_impossible': False} 遗憾\t方炯镔\n",
      "user: 4          item: 954        r_ui = 1.00   est = 1.00   {'was_impossible': False} 假如让我说下去\t杨千嬅\n",
      "user: 4          item: 955        r_ui = 1.00   est = 1.00   {'was_impossible': False} 爱你\t许志安\n",
      "user: 4          item: 956        r_ui = 1.00   est = 1.00   {'was_impossible': False} 你的手信\t陈慧敏\n",
      "user: 4          item: 352        r_ui = 1.00   est = 1.00   {'was_impossible': False} 遗憾\t许美静\n",
      "user: 4          item: 957        r_ui = 1.00   est = 1.00   {'was_impossible': False} 无终\t谢春花\n",
      "user: 4          item: 958        r_ui = 1.00   est = 1.00   {'was_impossible': False} 骄傲的少年\t南征北战\n",
      "user: 4          item: 959        r_ui = 1.00   est = 1.00   {'was_impossible': False} 一个人一座城\t曹寅\n",
      "user: 4          item: 960        r_ui = 1.00   est = 1.00   {'was_impossible': False} 好得很\t麦家瑜\n",
      "user: 4          item: 961        r_ui = 1.00   est = 1.00   {'was_impossible': False} 终身美丽\t郑秀文\n",
      "user: 4          item: 962        r_ui = 1.00   est = 1.00   {'was_impossible': False} 倾城\t许美静\n",
      "user: 4          item: 963        r_ui = 1.00   est = 1.00   {'was_impossible': False} 想要你知道\t许亚童\n",
      "user: 4          item: 964        r_ui = 1.00   est = 1.00   {'was_impossible': False} 忆她\t赵烁\n",
      "user: 4          item: 965        r_ui = 1.00   est = 1.00   {'was_impossible': False} 边走边唱\t李荣浩\n",
      "user: 4          item: 966        r_ui = 1.00   est = 1.00   {'was_impossible': False} 再见只是陌生人\t庄心妍\n",
      "user: 4          item: 967        r_ui = 1.00   est = 1.00   {'was_impossible': False} 每条伤心的大街\t飘乐队\n",
      "user: 4          item: 968        r_ui = 1.00   est = 1.00   {'was_impossible': False} 死结\t李玖哲\n",
      "user: 4          item: 969        r_ui = 1.00   est = 1.00   {'was_impossible': False} 我是你的影子\tXun(易硕成)\n",
      "user: 4          item: 970        r_ui = 1.00   est = 1.00   {'was_impossible': False} 孤儿仔\t陈奕迅\n",
      "user: 4          item: 971        r_ui = 1.00   est = 1.00   {'was_impossible': False} 霜雪千年\t双笙\n",
      "user: 4          item: 972        r_ui = 1.00   est = 1.00   {'was_impossible': False} 想起小时候\t前冲\n",
      "user: 4          item: 755        r_ui = 1.00   est = 1.00   {'was_impossible': False} 给自己的情书\t王菲\n",
      "user: 4          item: 279        r_ui = 1.00   est = 1.00   {'was_impossible': False} 情非得已\t庾澄庆\n",
      "user: 4          item: 973        r_ui = 1.00   est = 1.00   {'was_impossible': False} 听说爱情回来过(Live) - live\t张敬轩\n",
      "user: 4          item: 715        r_ui = 1.00   est = 1.00   {'was_impossible': False} 至少还有你\t林忆莲\n",
      "user: 4          item: 974        r_ui = 1.00   est = 1.00   {'was_impossible': False} 致自己\t齐一\n",
      "user: 4          item: 975        r_ui = 1.00   est = 1.00   {'was_impossible': False} 可惜我不是他\tXun\n",
      "user: 4          item: 976        r_ui = 1.00   est = 1.00   {'was_impossible': False} 恋人心\t魏新雨\n",
      "user: 4          item: 977        r_ui = 1.00   est = 1.00   {'was_impossible': False} 美好事物\t房东的猫\n",
      "user: 4          item: 978        r_ui = 1.00   est = 1.00   {'was_impossible': False} 你就要走了\t花粥\n",
      "user: 4          item: 979        r_ui = 1.00   est = 1.00   {'was_impossible': False} 一半\t薛之谦\n",
      "user: 4          item: 259        r_ui = 1.00   est = 1.00   {'was_impossible': False} 斑马斑马 - 翻唱\t房东的猫\n",
      "user: 4          item: 980        r_ui = 1.00   est = 1.00   {'was_impossible': False} 还想听你的故事\t谢春花\n",
      "user: 4          item: 981        r_ui = 1.00   est = 1.00   {'was_impossible': False} 房间\t刘瑞琦\n",
      "user: 4          item: 982        r_ui = 1.00   est = 1.00   {'was_impossible': False} 狮子座(live)\t曾轶可\n",
      "user: 4          item: 611        r_ui = 1.00   est = 1.00   {'was_impossible': False} 青花瓷\t周杰伦\n",
      "user: 4          item: 983        r_ui = 1.00   est = 1.00   {'was_impossible': False} 目前\t洪卓立\n",
      "user: 4          item: 984        r_ui = 1.00   est = 1.00   {'was_impossible': False} 月球下的人\t李幸倪\n",
      "user: 4          item: 985        r_ui = 1.00   est = 1.00   {'was_impossible': False} 明明\t钟一宪\n",
      "user: 4          item: 986        r_ui = 1.00   est = 1.00   {'was_impossible': False} 一棵会开花的树(demo)\t谢春花\n",
      "user: 4          item: 987        r_ui = 1.00   est = 1.00   {'was_impossible': False} 借我\t谢春花\n",
      "user: 4          item: 209        r_ui = 1.00   est = 1.00   {'was_impossible': False} 丑八怪\t薛之谦\n",
      "user: 4          item: 988        r_ui = 1.00   est = 1.00   {'was_impossible': False} 习惯失恋\t容祖儿\n",
      "user: 4          item: 989        r_ui = 1.00   est = 1.00   {'was_impossible': False} 红玫瑰\t陈奕迅\n",
      "user: 4          item: 192        r_ui = 1.00   est = 1.00   {'was_impossible': False} 漂洋过海来看你\t周深\n",
      "user: 4          item: 990        r_ui = 1.00   est = 1.00   {'was_impossible': False} 那女孩对我说\t黄义达\n",
      "user: 4          item: 991        r_ui = 1.00   est = 1.00   {'was_impossible': False} 后来\t群星\n",
      "user: 4          item: 992        r_ui = 1.00   est = 1.00   {'was_impossible': False} 喜剧之王\t李荣浩\n",
      "user: 4          item: 993        r_ui = 1.00   est = 1.00   {'was_impossible': False} 爱你\t陈芳语\n",
      "user: 4          item: 994        r_ui = 1.00   est = 1.00   {'was_impossible': False} 我爱你\t卢广仲\n",
      "user: 4          item: 995        r_ui = 1.00   est = 1.00   {'was_impossible': False} 遇见你的时候所有星星都落到我头上\t高姗\n",
      "user: 4          item: 996        r_ui = 1.00   est = 1.00   {'was_impossible': False} 一身诗意千寻瀑\t不才\n",
      "user: 4          item: 997        r_ui = 1.00   est = 1.00   {'was_impossible': False} 你在烦恼什么\t苏打绿\n",
      "user: 4          item: 998        r_ui = 1.00   est = 1.00   {'was_impossible': False} 我为自己代言\t魏晨\n",
      "user: 4          item: 141        r_ui = 1.00   est = 1.00   {'was_impossible': False} 夜空中最亮的星\t逃跑计划\n",
      "user: 4          item: 999        r_ui = 1.00   est = 1.00   {'was_impossible': False} 阴天快乐\t陈奕迅\n",
      "user: 4          item: 132        r_ui = 1.00   est = 1.00   {'was_impossible': False} 原谅\t张玉华\n",
      "user: 4          item: 1000       r_ui = 1.00   est = 1.00   {'was_impossible': False} 放过自己\t庄心妍\n",
      "user: 4          item: 1001       r_ui = 1.00   est = 1.00   {'was_impossible': False} 最好的我\t龚芝怡\n",
      "user: 4          item: 317        r_ui = 1.00   est = 1.00   {'was_impossible': False} 爱一点\t莫艳琳\n",
      "user: 4          item: 1002       r_ui = 1.00   est = 1.00   {'was_impossible': False} 陪我看日出\t蔡淳佳\n",
      "user: 4          item: 1003       r_ui = 1.00   est = 1.00   {'was_impossible': False} 幸福了 然后呢\tA-Lin\n",
      "user: 4          item: 1004       r_ui = 1.00   est = 1.00   {'was_impossible': False} 耿耿于怀\t麦浚龙\n",
      "user: 4          item: 1005       r_ui = 1.00   est = 1.00   {'was_impossible': False} 不说出的温柔\t范逸臣\n",
      "user: 4          item: 1006       r_ui = 1.00   est = 1.00   {'was_impossible': False} 初爱\t杨宗纬\n",
      "user: 4          item: 1007       r_ui = 1.00   est = 1.00   {'was_impossible': False} 只不过是\t花粥\n",
      "user: 4          item: 1008       r_ui = 1.00   est = 1.00   {'was_impossible': False} 理想三旬\t陈鸿宇\n",
      "user: 4          item: 137        r_ui = 1.00   est = 1.00   {'was_impossible': False} 小幸运（Cover 田馥甄）\t金玟岐\n",
      "user: 4          item: 1009       r_ui = 1.00   est = 1.00   {'was_impossible': False} 那又如何\t应嘉俐\n",
      "user: 4          item: 1010       r_ui = 1.00   est = 1.00   {'was_impossible': False} 小相思\t花粥\n",
      "user: 4          item: 1011       r_ui = 1.00   est = 1.00   {'was_impossible': False} 我不难过\t孙燕姿\n",
      "user: 4          item: 1012       r_ui = 1.00   est = 1.00   {'was_impossible': False} 你看不到的天空\t蔡旻佑\n",
      "user: 4          item: 1013       r_ui = 1.00   est = 1.00   {'was_impossible': False} 耿耿于怀\t王笑文\n",
      "user: 4          item: 1014       r_ui = 1.00   est = 1.00   {'was_impossible': False} 试探\t王般若\n",
      "user: 4          item: 1015       r_ui = 1.00   est = 1.00   {'was_impossible': False} 有你陪伴的夏天\t黄婧\n",
      "user: 4          item: 1016       r_ui = 1.00   est = 1.00   {'was_impossible': False} 不说再见\t好妹妹乐队\n"
     ]
    }
   ],
   "source": [
    "user_inner_id = 4\n",
    "user_rating = trainset.ur[user_inner_id]\n",
    "items = [item for (item, rating) in user_rating]\n",
    "for song in items:\n",
    "    print(algo.predict(user_inner_id, song, r_ui=1), song_id_name_dic[algo.trainset.to_raw_iid(song)])"
   ]
  },
  {
   "cell_type": "markdown",
   "metadata": {},
   "source": [
    "## 使用矩阵分解"
   ]
  },
  {
   "cell_type": "code",
   "execution_count": 63,
   "metadata": {
    "ExecuteTime": {
     "end_time": "2019-07-08T09:23:30.212427Z",
     "start_time": "2019-07-08T09:23:05.523864Z"
    }
   },
   "outputs": [
    {
     "data": {
      "text/plain": [
       "<surprise.prediction_algorithms.matrix_factorization.NMF at 0x1e4d2bcbeb8>"
      ]
     },
     "execution_count": 63,
     "metadata": {},
     "output_type": "execute_result"
    }
   ],
   "source": [
    "from surprise import NMF, Dataset, evaluate, Reader\n",
    "import pickle\n",
    "\n",
    "file_path = 'popular_music_suprise_format.txt'\n",
    "reader = Reader(line_format = 'user item rating timestamp', sep = ',')\n",
    "music_data = Dataset.load_from_file(file_path, reader = reader)\n",
    "algo = NMF()\n",
    "trainset = music_data.build_full_trainset()\n",
    "algo.fit(trainset)"
   ]
  },
  {
   "cell_type": "code",
   "execution_count": 65,
   "metadata": {
    "ExecuteTime": {
     "end_time": "2019-07-08T09:33:33.868729Z",
     "start_time": "2019-07-08T09:33:33.701724Z"
    }
   },
   "outputs": [],
   "source": [
    "with open('popular_song.pkl', 'rb') as f:\n",
    "    song_id_name_dic = pickle.load(f, encoding = 'utf-8')\n",
    "song_name_id_dic = {value: key for key, value in song_id_name_dic.items()}"
   ]
  },
  {
   "cell_type": "code",
   "execution_count": 67,
   "metadata": {
    "ExecuteTime": {
     "end_time": "2019-07-08T09:34:31.472164Z",
     "start_time": "2019-07-08T09:34:31.395055Z"
    }
   },
   "outputs": [
    {
     "name": "stdout",
     "output_type": "stream",
     "text": [
      "user: 4          item: 478        r_ui = 1.00   est = 1.00   {'reason': 'User and item are unkown.', 'was_impossible': True} 听见下雨的声音\t魏如昀\n",
      "user: 4          item: 429        r_ui = 1.00   est = 1.00   {'reason': 'User and item are unkown.', 'was_impossible': True} 梦一场\t萧敬腾\n",
      "user: 4          item: 936        r_ui = 1.00   est = 1.00   {'reason': 'User and item are unkown.', 'was_impossible': True} 干杯\t西瓜Kune\n",
      "user: 4          item: 937        r_ui = 1.00   est = 1.00   {'reason': 'User and item are unkown.', 'was_impossible': True} 给自己的歌 (Live) - live\t纵贯线\n",
      "user: 4          item: 938        r_ui = 1.00   est = 1.00   {'reason': 'User and item are unkown.', 'was_impossible': True} 小半\t陈粒\n",
      "user: 4          item: 939        r_ui = 1.00   est = 1.00   {'reason': 'User and item are unkown.', 'was_impossible': True} 思念是一种病(Live) - live\t张震岳\n",
      "user: 4          item: 940        r_ui = 1.00   est = 1.00   {'reason': 'User and item are unkown.', 'was_impossible': True} 可以不可以\t丁当\n",
      "user: 4          item: 941        r_ui = 1.00   est = 1.00   {'reason': 'User and item are unkown.', 'was_impossible': True} 秋酿\t房东的猫\n",
      "user: 4          item: 616        r_ui = 1.00   est = 1.00   {'reason': 'User and item are unkown.', 'was_impossible': True} 退后\t周杰伦\n",
      "user: 4          item: 942        r_ui = 1.00   est = 1.00   {'reason': 'User and item are unkown.', 'was_impossible': True} 阴天\t莫文蔚\n",
      "user: 4          item: 943        r_ui = 1.00   est = 1.00   {'reason': 'User and item are unkown.', 'was_impossible': True} 痛爱\t容祖儿\n",
      "user: 4          item: 944        r_ui = 1.00   est = 1.00   {'reason': 'User and item are unkown.', 'was_impossible': True} 二十世纪少年(Unplugged) - unplug\tPing Pung\n",
      "user: 4          item: 945        r_ui = 1.00   est = 1.00   {'reason': 'User and item are unkown.', 'was_impossible': True} 前所未见\t陈慧琳\n",
      "user: 4          item: 946        r_ui = 1.00   est = 1.00   {'reason': 'User and item are unkown.', 'was_impossible': True} 追梦赤子心\tGALA\n",
      "user: 4          item: 947        r_ui = 1.00   est = 1.00   {'reason': 'User and item are unkown.', 'was_impossible': True} 如果你也听说\t张惠妹\n",
      "user: 4          item: 948        r_ui = 1.00   est = 1.00   {'reason': 'User and item are unkown.', 'was_impossible': True} 寄生\t吴克羣\n",
      "user: 4          item: 949        r_ui = 1.00   est = 1.00   {'reason': 'User and item are unkown.', 'was_impossible': True} 怎么唱情歌\t刘惜君\n",
      "user: 4          item: 55         r_ui = 1.00   est = 1.00   {'reason': 'User and item are unkown.', 'was_impossible': True} 忽然之间\t巴士那\n",
      "user: 4          item: 950        r_ui = 1.00   est = 1.00   {'reason': 'User and item are unkown.', 'was_impossible': True} 烟霞\t容祖儿\n",
      "user: 4          item: 138        r_ui = 1.00   est = 1.00   {'reason': 'User and item are unkown.', 'was_impossible': True} 小幸运\t双笙\n",
      "user: 4          item: 951        r_ui = 1.00   est = 1.00   {'reason': 'User and item are unkown.', 'was_impossible': True} 错过\t王铮亮\n",
      "user: 4          item: 952        r_ui = 1.00   est = 1.00   {'reason': 'User and item are unkown.', 'was_impossible': True} 泪海\t许茹芸\n",
      "user: 4          item: 453        r_ui = 1.00   est = 1.00   {'reason': 'User and item are unkown.', 'was_impossible': True} 外面的世界\t莫文蔚\n",
      "user: 4          item: 840        r_ui = 1.00   est = 1.00   {'reason': 'User and item are unkown.', 'was_impossible': True} 短发\t梁咏琪\n",
      "user: 4          item: 953        r_ui = 1.00   est = 1.00   {'reason': 'User and item are unkown.', 'was_impossible': True} 遗憾\t方炯镔\n",
      "user: 4          item: 954        r_ui = 1.00   est = 1.00   {'reason': 'User and item are unkown.', 'was_impossible': True} 假如让我说下去\t杨千嬅\n",
      "user: 4          item: 955        r_ui = 1.00   est = 1.00   {'reason': 'User and item are unkown.', 'was_impossible': True} 爱你\t许志安\n",
      "user: 4          item: 956        r_ui = 1.00   est = 1.00   {'reason': 'User and item are unkown.', 'was_impossible': True} 你的手信\t陈慧敏\n",
      "user: 4          item: 352        r_ui = 1.00   est = 1.00   {'reason': 'User and item are unkown.', 'was_impossible': True} 遗憾\t许美静\n",
      "user: 4          item: 957        r_ui = 1.00   est = 1.00   {'reason': 'User and item are unkown.', 'was_impossible': True} 无终\t谢春花\n",
      "user: 4          item: 958        r_ui = 1.00   est = 1.00   {'reason': 'User and item are unkown.', 'was_impossible': True} 骄傲的少年\t南征北战\n",
      "user: 4          item: 959        r_ui = 1.00   est = 1.00   {'reason': 'User and item are unkown.', 'was_impossible': True} 一个人一座城\t曹寅\n",
      "user: 4          item: 960        r_ui = 1.00   est = 1.00   {'reason': 'User and item are unkown.', 'was_impossible': True} 好得很\t麦家瑜\n",
      "user: 4          item: 961        r_ui = 1.00   est = 1.00   {'reason': 'User and item are unkown.', 'was_impossible': True} 终身美丽\t郑秀文\n",
      "user: 4          item: 962        r_ui = 1.00   est = 1.00   {'reason': 'User and item are unkown.', 'was_impossible': True} 倾城\t许美静\n",
      "user: 4          item: 963        r_ui = 1.00   est = 1.00   {'reason': 'User and item are unkown.', 'was_impossible': True} 想要你知道\t许亚童\n",
      "user: 4          item: 964        r_ui = 1.00   est = 1.00   {'reason': 'User and item are unkown.', 'was_impossible': True} 忆她\t赵烁\n",
      "user: 4          item: 965        r_ui = 1.00   est = 1.00   {'reason': 'User and item are unkown.', 'was_impossible': True} 边走边唱\t李荣浩\n",
      "user: 4          item: 966        r_ui = 1.00   est = 1.00   {'reason': 'User and item are unkown.', 'was_impossible': True} 再见只是陌生人\t庄心妍\n",
      "user: 4          item: 967        r_ui = 1.00   est = 1.00   {'reason': 'User and item are unkown.', 'was_impossible': True} 每条伤心的大街\t飘乐队\n",
      "user: 4          item: 968        r_ui = 1.00   est = 1.00   {'reason': 'User and item are unkown.', 'was_impossible': True} 死结\t李玖哲\n",
      "user: 4          item: 969        r_ui = 1.00   est = 1.00   {'reason': 'User and item are unkown.', 'was_impossible': True} 我是你的影子\tXun(易硕成)\n",
      "user: 4          item: 970        r_ui = 1.00   est = 1.00   {'reason': 'User and item are unkown.', 'was_impossible': True} 孤儿仔\t陈奕迅\n",
      "user: 4          item: 971        r_ui = 1.00   est = 1.00   {'reason': 'User and item are unkown.', 'was_impossible': True} 霜雪千年\t双笙\n",
      "user: 4          item: 972        r_ui = 1.00   est = 1.00   {'reason': 'User and item are unkown.', 'was_impossible': True} 想起小时候\t前冲\n",
      "user: 4          item: 755        r_ui = 1.00   est = 1.00   {'reason': 'User and item are unkown.', 'was_impossible': True} 给自己的情书\t王菲\n",
      "user: 4          item: 279        r_ui = 1.00   est = 1.00   {'reason': 'User and item are unkown.', 'was_impossible': True} 情非得已\t庾澄庆\n",
      "user: 4          item: 973        r_ui = 1.00   est = 1.00   {'reason': 'User and item are unkown.', 'was_impossible': True} 听说爱情回来过(Live) - live\t张敬轩\n",
      "user: 4          item: 715        r_ui = 1.00   est = 1.00   {'reason': 'User and item are unkown.', 'was_impossible': True} 至少还有你\t林忆莲\n",
      "user: 4          item: 974        r_ui = 1.00   est = 1.00   {'reason': 'User and item are unkown.', 'was_impossible': True} 致自己\t齐一\n",
      "user: 4          item: 975        r_ui = 1.00   est = 1.00   {'reason': 'User and item are unkown.', 'was_impossible': True} 可惜我不是他\tXun\n",
      "user: 4          item: 976        r_ui = 1.00   est = 1.00   {'reason': 'User and item are unkown.', 'was_impossible': True} 恋人心\t魏新雨\n",
      "user: 4          item: 977        r_ui = 1.00   est = 1.00   {'reason': 'User and item are unkown.', 'was_impossible': True} 美好事物\t房东的猫\n",
      "user: 4          item: 978        r_ui = 1.00   est = 1.00   {'reason': 'User and item are unkown.', 'was_impossible': True} 你就要走了\t花粥\n",
      "user: 4          item: 979        r_ui = 1.00   est = 1.00   {'reason': 'User and item are unkown.', 'was_impossible': True} 一半\t薛之谦\n",
      "user: 4          item: 259        r_ui = 1.00   est = 1.00   {'reason': 'User and item are unkown.', 'was_impossible': True} 斑马斑马 - 翻唱\t房东的猫\n",
      "user: 4          item: 980        r_ui = 1.00   est = 1.00   {'reason': 'User and item are unkown.', 'was_impossible': True} 还想听你的故事\t谢春花\n",
      "user: 4          item: 981        r_ui = 1.00   est = 1.00   {'reason': 'User and item are unkown.', 'was_impossible': True} 房间\t刘瑞琦\n",
      "user: 4          item: 982        r_ui = 1.00   est = 1.00   {'reason': 'User and item are unkown.', 'was_impossible': True} 狮子座(live)\t曾轶可\n",
      "user: 4          item: 611        r_ui = 1.00   est = 1.00   {'reason': 'User and item are unkown.', 'was_impossible': True} 青花瓷\t周杰伦\n",
      "user: 4          item: 983        r_ui = 1.00   est = 1.00   {'reason': 'User and item are unkown.', 'was_impossible': True} 目前\t洪卓立\n",
      "user: 4          item: 984        r_ui = 1.00   est = 1.00   {'reason': 'User and item are unkown.', 'was_impossible': True} 月球下的人\t李幸倪\n",
      "user: 4          item: 985        r_ui = 1.00   est = 1.00   {'reason': 'User and item are unkown.', 'was_impossible': True} 明明\t钟一宪\n",
      "user: 4          item: 986        r_ui = 1.00   est = 1.00   {'reason': 'User and item are unkown.', 'was_impossible': True} 一棵会开花的树(demo)\t谢春花\n",
      "user: 4          item: 987        r_ui = 1.00   est = 1.00   {'reason': 'User and item are unkown.', 'was_impossible': True} 借我\t谢春花\n",
      "user: 4          item: 209        r_ui = 1.00   est = 1.00   {'reason': 'User and item are unkown.', 'was_impossible': True} 丑八怪\t薛之谦\n",
      "user: 4          item: 988        r_ui = 1.00   est = 1.00   {'reason': 'User and item are unkown.', 'was_impossible': True} 习惯失恋\t容祖儿\n",
      "user: 4          item: 989        r_ui = 1.00   est = 1.00   {'reason': 'User and item are unkown.', 'was_impossible': True} 红玫瑰\t陈奕迅\n",
      "user: 4          item: 192        r_ui = 1.00   est = 1.00   {'reason': 'User and item are unkown.', 'was_impossible': True} 漂洋过海来看你\t周深\n",
      "user: 4          item: 990        r_ui = 1.00   est = 1.00   {'reason': 'User and item are unkown.', 'was_impossible': True} 那女孩对我说\t黄义达\n",
      "user: 4          item: 991        r_ui = 1.00   est = 1.00   {'reason': 'User and item are unkown.', 'was_impossible': True} 后来\t群星\n",
      "user: 4          item: 992        r_ui = 1.00   est = 1.00   {'reason': 'User and item are unkown.', 'was_impossible': True} 喜剧之王\t李荣浩\n",
      "user: 4          item: 993        r_ui = 1.00   est = 1.00   {'reason': 'User and item are unkown.', 'was_impossible': True} 爱你\t陈芳语\n",
      "user: 4          item: 994        r_ui = 1.00   est = 1.00   {'reason': 'User and item are unkown.', 'was_impossible': True} 我爱你\t卢广仲\n",
      "user: 4          item: 995        r_ui = 1.00   est = 1.00   {'reason': 'User and item are unkown.', 'was_impossible': True} 遇见你的时候所有星星都落到我头上\t高姗\n",
      "user: 4          item: 996        r_ui = 1.00   est = 1.00   {'reason': 'User and item are unkown.', 'was_impossible': True} 一身诗意千寻瀑\t不才\n",
      "user: 4          item: 997        r_ui = 1.00   est = 1.00   {'reason': 'User and item are unkown.', 'was_impossible': True} 你在烦恼什么\t苏打绿\n",
      "user: 4          item: 998        r_ui = 1.00   est = 1.00   {'reason': 'User and item are unkown.', 'was_impossible': True} 我为自己代言\t魏晨\n",
      "user: 4          item: 141        r_ui = 1.00   est = 1.00   {'reason': 'User and item are unkown.', 'was_impossible': True} 夜空中最亮的星\t逃跑计划\n",
      "user: 4          item: 999        r_ui = 1.00   est = 1.00   {'reason': 'User and item are unkown.', 'was_impossible': True} 阴天快乐\t陈奕迅\n",
      "user: 4          item: 132        r_ui = 1.00   est = 1.00   {'reason': 'User and item are unkown.', 'was_impossible': True} 原谅\t张玉华\n",
      "user: 4          item: 1000       r_ui = 1.00   est = 1.00   {'reason': 'User and item are unkown.', 'was_impossible': True} 放过自己\t庄心妍\n",
      "user: 4          item: 1001       r_ui = 1.00   est = 1.00   {'reason': 'User and item are unkown.', 'was_impossible': True} 最好的我\t龚芝怡\n",
      "user: 4          item: 317        r_ui = 1.00   est = 1.00   {'reason': 'User and item are unkown.', 'was_impossible': True} 爱一点\t莫艳琳\n",
      "user: 4          item: 1002       r_ui = 1.00   est = 1.00   {'reason': 'User and item are unkown.', 'was_impossible': True} 陪我看日出\t蔡淳佳\n",
      "user: 4          item: 1003       r_ui = 1.00   est = 1.00   {'reason': 'User and item are unkown.', 'was_impossible': True} 幸福了 然后呢\tA-Lin\n",
      "user: 4          item: 1004       r_ui = 1.00   est = 1.00   {'reason': 'User and item are unkown.', 'was_impossible': True} 耿耿于怀\t麦浚龙\n",
      "user: 4          item: 1005       r_ui = 1.00   est = 1.00   {'reason': 'User and item are unkown.', 'was_impossible': True} 不说出的温柔\t范逸臣\n",
      "user: 4          item: 1006       r_ui = 1.00   est = 1.00   {'reason': 'User and item are unkown.', 'was_impossible': True} 初爱\t杨宗纬\n",
      "user: 4          item: 1007       r_ui = 1.00   est = 1.00   {'reason': 'User and item are unkown.', 'was_impossible': True} 只不过是\t花粥\n",
      "user: 4          item: 1008       r_ui = 1.00   est = 1.00   {'reason': 'User and item are unkown.', 'was_impossible': True} 理想三旬\t陈鸿宇\n",
      "user: 4          item: 137        r_ui = 1.00   est = 1.00   {'reason': 'User and item are unkown.', 'was_impossible': True} 小幸运（Cover 田馥甄）\t金玟岐\n",
      "user: 4          item: 1009       r_ui = 1.00   est = 1.00   {'reason': 'User and item are unkown.', 'was_impossible': True} 那又如何\t应嘉俐\n",
      "user: 4          item: 1010       r_ui = 1.00   est = 1.00   {'reason': 'User and item are unkown.', 'was_impossible': True} 小相思\t花粥\n",
      "user: 4          item: 1011       r_ui = 1.00   est = 1.00   {'reason': 'User and item are unkown.', 'was_impossible': True} 我不难过\t孙燕姿\n",
      "user: 4          item: 1012       r_ui = 1.00   est = 1.00   {'reason': 'User and item are unkown.', 'was_impossible': True} 你看不到的天空\t蔡旻佑\n",
      "user: 4          item: 1013       r_ui = 1.00   est = 1.00   {'reason': 'User and item are unkown.', 'was_impossible': True} 耿耿于怀\t王笑文\n",
      "user: 4          item: 1014       r_ui = 1.00   est = 1.00   {'reason': 'User and item are unkown.', 'was_impossible': True} 试探\t王般若\n",
      "user: 4          item: 1015       r_ui = 1.00   est = 1.00   {'reason': 'User and item are unkown.', 'was_impossible': True} 有你陪伴的夏天\t黄婧\n",
      "user: 4          item: 1016       r_ui = 1.00   est = 1.00   {'reason': 'User and item are unkown.', 'was_impossible': True} 不说再见\t好妹妹乐队\n"
     ]
    }
   ],
   "source": [
    "user_inner_id = 4\n",
    "user_rating = trainset.ur[user_inner_id]\n",
    "items = [item for (item, rating) in user_rating]\n",
    "for song in items:\n",
    "    print(algo.predict(user_inner_id, song, r_ui = 1.0), song_id_name_dic[trainset.to_raw_iid(song)])"
   ]
  },
  {
   "cell_type": "markdown",
   "metadata": {},
   "source": [
    "# 模型存储和载入"
   ]
  },
  {
   "cell_type": "code",
   "execution_count": 68,
   "metadata": {
    "ExecuteTime": {
     "end_time": "2019-07-08T09:37:59.425148Z",
     "start_time": "2019-07-08T09:37:58.813919Z"
    }
   },
   "outputs": [],
   "source": [
    "import surprise\n",
    "surprise.dump.dump('./recommedation.model', algo = algo)\n",
    "algo = surprise.dump.load('./recommedation.model')"
   ]
  },
  {
   "cell_type": "code",
   "execution_count": 70,
   "metadata": {
    "ExecuteTime": {
     "end_time": "2019-07-08T09:38:09.570639Z",
     "start_time": "2019-07-08T09:38:09.562636Z"
    }
   },
   "outputs": [
    {
     "data": {
      "text/plain": [
       "(None,\n",
       " <surprise.prediction_algorithms.matrix_factorization.NMF at 0x1e4d24914e0>)"
      ]
     },
     "execution_count": 70,
     "metadata": {},
     "output_type": "execute_result"
    }
   ],
   "source": [
    "algo"
   ]
  },
  {
   "cell_type": "markdown",
   "metadata": {},
   "source": [
    "# 算法评估"
   ]
  },
  {
   "cell_type": "code",
   "execution_count": null,
   "metadata": {},
   "outputs": [],
   "source": []
  }
 ],
 "metadata": {
  "kernelspec": {
   "display_name": "tensorflow35",
   "language": "python",
   "name": "tensorflow35"
  },
  "language_info": {
   "codemirror_mode": {
    "name": "ipython",
    "version": 3
   },
   "file_extension": ".py",
   "mimetype": "text/x-python",
   "name": "python",
   "nbconvert_exporter": "python",
   "pygments_lexer": "ipython3",
   "version": "3.5.4"
  },
  "latex_envs": {
   "LaTeX_envs_menu_present": true,
   "autoclose": false,
   "autocomplete": true,
   "bibliofile": "biblio.bib",
   "cite_by": "apalike",
   "current_citInitial": 1,
   "eqLabelWithNumbers": true,
   "eqNumInitial": 1,
   "hotkeys": {
    "equation": "Ctrl-E",
    "itemize": "Ctrl-I"
   },
   "labels_anchors": false,
   "latex_user_defs": false,
   "report_style_numbering": false,
   "user_envs_cfg": false
  },
  "toc": {
   "base_numbering": 1,
   "nav_menu": {},
   "number_sections": true,
   "sideBar": true,
   "skip_h1_title": false,
   "title_cell": "Table of Contents",
   "title_sidebar": "Contents",
   "toc_cell": true,
   "toc_position": {},
   "toc_section_display": true,
   "toc_window_display": false
  },
  "varInspector": {
   "cols": {
    "lenName": 16,
    "lenType": 16,
    "lenVar": 40
   },
   "kernels_config": {
    "python": {
     "delete_cmd_postfix": "",
     "delete_cmd_prefix": "del ",
     "library": "var_list.py",
     "varRefreshCmd": "print(var_dic_list())"
    },
    "r": {
     "delete_cmd_postfix": ") ",
     "delete_cmd_prefix": "rm(",
     "library": "var_list.r",
     "varRefreshCmd": "cat(var_dic_list()) "
    }
   },
   "types_to_exclude": [
    "module",
    "function",
    "builtin_function_or_method",
    "instance",
    "_Feature"
   ],
   "window_display": false
  }
 },
 "nbformat": 4,
 "nbformat_minor": 2
}
