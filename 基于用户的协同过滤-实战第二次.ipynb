{
 "cells": [
  {
   "cell_type": "code",
   "execution_count": 29,
   "metadata": {
    "ExecuteTime": {
     "end_time": "2019-02-23T17:35:12.512700Z",
     "start_time": "2019-02-23T17:18:15.064638Z"
    }
   },
   "outputs": [],
   "source": [
    "import numpy as np\n",
    "import pandas as pd\n",
    "from sklearn.model_selection import train_test_split\n",
    "import math\n",
    "##读取文件\n",
    "movies_csv=pd.read_csv('./ml-latest-small/ml-latest-small/movies.csv')\n",
    "ratings_csv=pd.read_csv('./ml-latest-small/ml-latest-small/ratings.csv')\n",
    "##构建用户和电影的评分表\n",
    "data=pd.merge(movies_csv,ratings_csv,on='movieId')\n",
    "df=pd.pivot_table(data[['movieId','userId','rating']],index=['userId'],columns=['movieId'],values='rating').fillna(0)\n",
    "df_train,df_test=train_test_split(df,test_size=0.2,random_state=1)\n",
    "ratings=df_train.values.tolist()\n",
    "##定义余弦相似度函数\n",
    "def cossim(list1,list2):\n",
    "    up,down1,down2,val=0,0,0,0\n",
    "    for (a,b) in zip(list1,list2):\n",
    "        up+=a*b\n",
    "        down1+=a**2\n",
    "        down2+=b**2\n",
    "    val+=up/math.sqrt(down1*down2)\n",
    "##构建用户相似矩阵\n",
    "user_sim=np.zeros((len(ratings),len(ratings)))\n",
    "for i in range(len(ratings)):\n",
    "    for j in range(len(ratings)):\n",
    "        user_sim[i,j]=cossim(ratings[i],ratings[j])"
   ]
  },
  {
   "cell_type": "code",
   "execution_count": null,
   "metadata": {},
   "outputs": [],
   "source": [
    "##找出每个用户的10个相似用户\n",
    "user_sim_dict={}\n",
    "for i in range(len(ratings):\n",
    "    user_sim_dict[i]=sorted(enmuerate(list(usersim[i])),key=lambda x: x[1],reverse=True)[:10]"
   ]
  },
  {
   "cell_type": "code",
   "execution_count": 43,
   "metadata": {
    "ExecuteTime": {
     "end_time": "2019-02-23T19:05:01.721032Z",
     "start_time": "2019-02-23T19:05:01.703023Z"
    },
    "code_folding": []
   },
   "outputs": [
    {
     "ename": "SyntaxError",
     "evalue": "invalid syntax (<ipython-input-43-8384d45513fa>, line 3)",
     "output_type": "error",
     "traceback": [
      "\u001b[1;36m  File \u001b[1;32m\"<ipython-input-43-8384d45513fa>\"\u001b[1;36m, line \u001b[1;32m3\u001b[0m\n\u001b[1;33m    for i in range(len(ratings):\u001b[0m\n\u001b[1;37m                               ^\u001b[0m\n\u001b[1;31mSyntaxError\u001b[0m\u001b[1;31m:\u001b[0m invalid syntax\n"
     ]
    }
   ],
   "source": [
    "##找出每个用户的10个相似用户\n",
    "user_sim_dict={}\n",
    "for i in range(len(ratings):\n",
    "    user_sim_dict[i]=sorted(enmuerate(list(usersim[i])),key=lambda x: x[1],reverse=True)[:10]\n",
    "\n",
    "##给用户的未评论电影做评分\n",
    "unrate_movie=np.zeros((len(ratings),len(ratings[0])))\n",
    "for i in range(len(ratings)):\n",
    "    for j in range(len(ratings[i])):\n",
    "        if ratings[i][j]==0:\n",
    "            val=0\n",
    "            for (user,rate) in user_sim_dict[i]:\n",
    "                val+=ratings[user][j]*rate\n",
    "            unrate_movie[i][j]=val"
   ]
  },
  {
   "cell_type": "code",
   "execution_count": 38,
   "metadata": {
    "ExecuteTime": {
     "end_time": "2019-02-23T18:58:26.903021Z",
     "start_time": "2019-02-23T18:58:26.886009Z"
    }
   },
   "outputs": [
    {
     "ename": "NameError",
     "evalue": "name 'movie_recom' is not defined",
     "output_type": "error",
     "traceback": [
      "\u001b[1;31m---------------------------------------------------------------------------\u001b[0m",
      "\u001b[1;31mNameError\u001b[0m                                 Traceback (most recent call last)",
      "\u001b[1;32m<ipython-input-38-84c95278c737>\u001b[0m in \u001b[0;36m<module>\u001b[1;34m()\u001b[0m\n\u001b[1;32m----> 1\u001b[1;33m \u001b[0mmovies_csv\u001b[0m\u001b[1;33m.\u001b[0m\u001b[0mloc\u001b[0m\u001b[1;33m[\u001b[0m\u001b[0mmovie_recom\u001b[0m\u001b[1;33m[\u001b[0m\u001b[1;36m0\u001b[0m\u001b[1;33m]\u001b[0m\u001b[1;33m[\u001b[0m\u001b[1;36m0\u001b[0m\u001b[1;33m]\u001b[0m\u001b[1;33m]\u001b[0m\u001b[1;33m[\u001b[0m\u001b[1;34m'title'\u001b[0m\u001b[1;33m]\u001b[0m\u001b[1;33m\u001b[0m\u001b[0m\n\u001b[0m",
      "\u001b[1;31mNameError\u001b[0m: name 'movie_recom' is not defined"
     ]
    }
   ],
   "source": [
    "##给每位用户推荐出10个电影\n",
    "movie_recom={}\n",
    "for i in range(len(ratings)):\n",
    "    movie_recom[i]=sorted(ennumerate(list(unrate_movie[i])),key=lambda x:x[1],reverse=True)\n",
    "    \n",
    "##将用户和电影的索引换回ID\n",
    "usermap=dict(enumerate(df_train.index.tolist()))\n",
    "moviemap=dict(enumerate(df_train.columns.tolist()))\n",
    "for i in range(len(ratings)):\n",
    "    print(uermap[i],moviemap[movie_recom[i][0]],movies_csv.loc[movie_recom[i][0]]['title'])"
   ]
  }
 ],
 "metadata": {
  "kernelspec": {
   "display_name": "tensorflow35",
   "language": "python",
   "name": "tensorflow35"
  },
  "language_info": {
   "codemirror_mode": {
    "name": "ipython",
    "version": 3
   },
   "file_extension": ".py",
   "mimetype": "text/x-python",
   "name": "python",
   "nbconvert_exporter": "python",
   "pygments_lexer": "ipython3",
   "version": "3.5.4"
  },
  "latex_envs": {
   "LaTeX_envs_menu_present": true,
   "autoclose": false,
   "autocomplete": true,
   "bibliofile": "biblio.bib",
   "cite_by": "apalike",
   "current_citInitial": 1,
   "eqLabelWithNumbers": true,
   "eqNumInitial": 1,
   "hotkeys": {
    "equation": "Ctrl-E",
    "itemize": "Ctrl-I"
   },
   "labels_anchors": false,
   "latex_user_defs": false,
   "report_style_numbering": false,
   "user_envs_cfg": false
  },
  "toc": {
   "base_numbering": 1,
   "nav_menu": {},
   "number_sections": true,
   "sideBar": true,
   "skip_h1_title": false,
   "title_cell": "Table of Contents",
   "title_sidebar": "Contents",
   "toc_cell": false,
   "toc_position": {},
   "toc_section_display": true,
   "toc_window_display": false
  },
  "varInspector": {
   "cols": {
    "lenName": 16,
    "lenType": 16,
    "lenVar": 40
   },
   "kernels_config": {
    "python": {
     "delete_cmd_postfix": "",
     "delete_cmd_prefix": "del ",
     "library": "var_list.py",
     "varRefreshCmd": "print(var_dic_list())"
    },
    "r": {
     "delete_cmd_postfix": ") ",
     "delete_cmd_prefix": "rm(",
     "library": "var_list.r",
     "varRefreshCmd": "cat(var_dic_list()) "
    }
   },
   "types_to_exclude": [
    "module",
    "function",
    "builtin_function_or_method",
    "instance",
    "_Feature"
   ],
   "window_display": false
  }
 },
 "nbformat": 4,
 "nbformat_minor": 2
}
