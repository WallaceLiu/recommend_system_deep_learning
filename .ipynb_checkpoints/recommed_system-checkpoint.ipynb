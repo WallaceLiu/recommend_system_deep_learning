{
 "cells": [
  {
   "cell_type": "markdown",
   "metadata": {
    "toc": true
   },
   "source": [
    "<h1>Table of Contents<span class=\"tocSkip\"></span></h1>\n",
    "<div class=\"toc\"><ul class=\"toc-item\"><li><span><a href=\"#推荐系统\" data-toc-modified-id=\"推荐系统-1\"><span class=\"toc-item-num\">1&nbsp;&nbsp;</span>推荐系统</a></span><ul class=\"toc-item\"><li><span><a href=\"#推荐系统的评价\" data-toc-modified-id=\"推荐系统的评价-1.1\"><span class=\"toc-item-num\">1.1&nbsp;&nbsp;</span>推荐系统的评价</a></span></li><li><span><a href=\"#基于内容的推荐\" data-toc-modified-id=\"基于内容的推荐-1.2\"><span class=\"toc-item-num\">1.2&nbsp;&nbsp;</span>基于内容的推荐</a></span><ul class=\"toc-item\"><li><span><a href=\"#特征提取\" data-toc-modified-id=\"特征提取-1.2.1\"><span class=\"toc-item-num\">1.2.1&nbsp;&nbsp;</span>特征提取</a></span><ul class=\"toc-item\"><li><span><a href=\"#结构化数据\" data-toc-modified-id=\"结构化数据-1.2.1.1\"><span class=\"toc-item-num\">1.2.1.1&nbsp;&nbsp;</span>结构化数据</a></span></li><li><span><a href=\"#非结构化数据\" data-toc-modified-id=\"非结构化数据-1.2.1.2\"><span class=\"toc-item-num\">1.2.1.2&nbsp;&nbsp;</span>非结构化数据</a></span></li></ul></li><li><span><a href=\"#用户偏好计算\" data-toc-modified-id=\"用户偏好计算-1.2.2\"><span class=\"toc-item-num\">1.2.2&nbsp;&nbsp;</span>用户偏好计算</a></span></li><li><span><a href=\"#内容召回\" data-toc-modified-id=\"内容召回-1.2.3\"><span class=\"toc-item-num\">1.2.3&nbsp;&nbsp;</span>内容召回</a></span></li><li><span><a href=\"#物品排序\" data-toc-modified-id=\"物品排序-1.2.4\"><span class=\"toc-item-num\">1.2.4&nbsp;&nbsp;</span>物品排序</a></span></li></ul></li><li><span><a href=\"#基于领域的推荐（协同算法）\" data-toc-modified-id=\"基于领域的推荐（协同算法）-1.3\"><span class=\"toc-item-num\">1.3&nbsp;&nbsp;</span>基于领域的推荐（协同算法）</a></span><ul class=\"toc-item\"><li><span><a href=\"#UserCF和ItemCF的区别\" data-toc-modified-id=\"UserCF和ItemCF的区别-1.3.1\"><span class=\"toc-item-num\">1.3.1&nbsp;&nbsp;</span>UserCF 和 ItemCF 的区别</a></span><ul class=\"toc-item\"><li><span><a href=\"#推荐场景\" data-toc-modified-id=\"推荐场景-1.3.1.1\"><span class=\"toc-item-num\">1.3.1.1&nbsp;&nbsp;</span>推荐场景</a></span></li><li><span><a href=\"#系统多样性\" data-toc-modified-id=\"系统多样性-1.3.1.2\"><span class=\"toc-item-num\">1.3.1.2&nbsp;&nbsp;</span>系统多样性</a></span></li><li><span><a href=\"#用户特点对推荐算法影响的比较\" data-toc-modified-id=\"用户特点对推荐算法影响的比较-1.3.1.3\"><span class=\"toc-item-num\">1.3.1.3&nbsp;&nbsp;</span>用户特点对推荐算法影响的比较</a></span></li></ul></li><li><span><a href=\"#基于用户的协同过滤算法\" data-toc-modified-id=\"基于用户的协同过滤算法-1.3.2\"><span class=\"toc-item-num\">1.3.2&nbsp;&nbsp;</span>基于用户的协同过滤算法</a></span></li><li><span><a href=\"#基于物品的协同过滤算法\" data-toc-modified-id=\"基于物品的协同过滤算法-1.3.3\"><span class=\"toc-item-num\">1.3.3&nbsp;&nbsp;</span>基于物品的协同过滤算法</a></span><ul class=\"toc-item\"><li><span><a href=\"#基于共同喜欢物品的用户列表计算（购买数）:\" data-toc-modified-id=\"基于共同喜欢物品的用户列表计算（购买数）:-1.3.3.1\"><span class=\"toc-item-num\">1.3.3.1&nbsp;&nbsp;</span>基于共同喜欢物品的用户列表计算（购买数）:</a></span></li><li><span><a href=\"#基于余弦的相似度（评分数据）\" data-toc-modified-id=\"基于余弦的相似度（评分数据）-1.3.3.2\"><span class=\"toc-item-num\">1.3.3.2&nbsp;&nbsp;</span>基于余弦的相似度（评分数据）</a></span></li><li><span><a href=\"#热门物品的惩罚\" data-toc-modified-id=\"热门物品的惩罚-1.3.3.3\"><span class=\"toc-item-num\">1.3.3.3&nbsp;&nbsp;</span>热门物品的惩罚</a></span></li><li><span><a href=\"#计算用户对商品的推荐分数\" data-toc-modified-id=\"计算用户对商品的推荐分数-1.3.3.4\"><span class=\"toc-item-num\">1.3.3.4&nbsp;&nbsp;</span>计算用户对商品的推荐分数</a></span></li></ul></li><li><span><a href=\"#基于矩阵分解的推荐方法\" data-toc-modified-id=\"基于矩阵分解的推荐方法-1.3.4\"><span class=\"toc-item-num\">1.3.4&nbsp;&nbsp;</span>基于矩阵分解的推荐方法</a></span></li><li><span><a href=\"#基于稀疏自编码的推荐方法\" data-toc-modified-id=\"基于稀疏自编码的推荐方法-1.3.5\"><span class=\"toc-item-num\">1.3.5&nbsp;&nbsp;</span>基于稀疏自编码的推荐方法</a></span></li></ul></li><li><span><a href=\"#基于社交网络的推荐算法\" data-toc-modified-id=\"基于社交网络的推荐算法-1.4\"><span class=\"toc-item-num\">1.4&nbsp;&nbsp;</span>基于社交网络的推荐算法</a></span></li><li><span><a href=\"#推荐系统冷启动问题\" data-toc-modified-id=\"推荐系统冷启动问题-1.5\"><span class=\"toc-item-num\">1.5&nbsp;&nbsp;</span>推荐系统冷启动问题</a></span></li></ul></li></ul></div>"
   ]
  },
  {
   "cell_type": "markdown",
   "metadata": {},
   "source": [
    "# 推荐系统"
   ]
  },
  {
   "cell_type": "markdown",
   "metadata": {},
   "source": [
    "__推荐系统需同时具备：__\n",
    ">速度快  \n",
    ">准确度高"
   ]
  },
  {
   "cell_type": "markdown",
   "metadata": {},
   "source": [
    "<span style='color : red'>__热门程度和实效性是个性化新闻的推荐重点，而个性化是补充__</span>"
   ]
  },
  {
   "cell_type": "markdown",
   "metadata": {},
   "source": [
    "## 推荐系统的评价"
   ]
  },
  {
   "cell_type": "markdown",
   "metadata": {},
   "source": [
    "好的推测不代表是好的推荐！如果本来用户就有了主观选择趋势，此时的预测实际上并不能提高潜在商品的被选择率。"
   ]
  },
  {
   "cell_type": "markdown",
   "metadata": {},
   "source": [
    "- 评测方法："
   ]
  },
  {
   "cell_type": "markdown",
   "metadata": {},
   "source": [
    ">1、离线实验  \n",
    ">缺点：较难得到离线的与商业指标相关的指标  \n",
    "\n",
    ">2、用户调查  \n",
    ">缺点：用户量大时，成本过高；用户量小时，得出的结论往往没有统计意义\n",
    "\n",
    ">3、在线实验（较常使用A/B test）  \n",
    ">缺点：周期较长，必须进行长期的实验才有可靠的结果"
   ]
  },
  {
   "cell_type": "markdown",
   "metadata": {},
   "source": [
    "## 基于内容的推荐"
   ]
  },
  {
   "cell_type": "markdown",
   "metadata": {},
   "source": [
    "__优点：__\n",
    ">1、易于定位问题  \n",
    ">2、能为具有特殊兴趣爱好的用户进行推荐  \n",
    ">3、物品没有冷启动问题    \n",
    "\n",
    "__缺点：__\n",
    ">1、要求取出的特征必须具有良好的结构性  \n",
    ">2、推荐精度低，相同内容特征的物品差异性不大"
   ]
  },
  {
   "cell_type": "markdown",
   "metadata": {},
   "source": [
    "### 特征提取\n",
    "#### 结构化数据\n",
    ">可取用二进制的方法进行表示\n",
    "#### 非结构化数据\n",
    ">1、对于英文，可直接取词；对于中文，需先直接分词  \n",
    ">2、统计方法分两种  \n",
    ">>2.1、基础统计法：商品或词汇出现就取1，没出现就取0（当很多文章都包含某个词时，则这个词没有信息量）   \n",
    ">><span style='color:red'>__2.2、词频统计法：__</span>  \n",
    "    $$w_{k,j}=\\frac{TF-IDF(t_{k},d_{j})}{\\sqrt{\\sum{TF-IDF(t_{k},d_{j})^{2}}}}$$  \n",
    "$w_{k,j}$是 词k在文章j中的权重  \n",
    "$$TF-IDF(t_{k},d_{j})=TF(t_{k},d_{j})\\cdot\\log\\frac{N}{n_{k}}$$\n",
    "$TF(t_{k},d_{j})$是词k在商品或文章j中出现的次数   \n",
    "$n_{k}$是包含词k的文章的数量  \n",
    "<span style='color:blue'>__由上得出每篇文章的内容特征向量：__</span> $$d_{j}=(w_{1j},w_{2j},…,w_{nj})$$  "
   ]
  },
  {
   "cell_type": "markdown",
   "metadata": {},
   "source": [
    "### 用户偏好计算\n",
    "<span style='color:blue'>__计算客户的文章偏好时，可直接取用户x喜欢文章的向量平均值：__</span>$$U_{x}=\\frac{(d_{x1}+d_{x2}+d_{x3})}{3}=(u_{1x},u_{2x},…,u_{nx})$$"
   ]
  },
  {
   "cell_type": "markdown",
   "metadata": {},
   "source": [
    "### 内容召回\n",
    "<span style='color:blue'>__则用户x在文章t上的得分为：__</span>$$cos\\theta=\\frac{U_{x}\\cdot\\ d_{t}}{\\lVert U_{k} \\rVert\\lVert d_{t} \\rVert}=\\frac{\\sum\\limits_{i=1}^n (u_{ix}\\cdot\\ w_{it})}{\\sqrt{\\sum\\limits_{i=1}^n u_{ix}^2}\\cdot\\ \\sqrt{\\sum\\limits_{i=1}^n w_{it}^2}}$$\n",
    ">代码："
   ]
  },
  {
   "cell_type": "code",
   "execution_count": 12,
   "metadata": {
    "ExecuteTime": {
     "end_time": "2019-06-06T11:40:39.851092Z",
     "start_time": "2019-06-06T11:40:39.841087Z"
    }
   },
   "outputs": [],
   "source": [
    "import numpy as np\n",
    "def cossim(u_x,d_t):\n",
    "    num1=np.dot(u_x,d_t)\n",
    "    num2=np.linalg(u_x)*np.linalg(d_t)\n",
    "    return num1/num2"
   ]
  },
  {
   "cell_type": "markdown",
   "metadata": {},
   "source": [
    "### 物品排序"
   ]
  },
  {
   "cell_type": "markdown",
   "metadata": {},
   "source": [
    "## 基于领域的推荐（协同算法）"
   ]
  },
  {
   "cell_type": "markdown",
   "metadata": {},
   "source": [
    "### UserCF和ItemCF的区别"
   ]
  },
  {
   "cell_type": "markdown",
   "metadata": {},
   "source": [
    "#### 推荐场景\n",
    ">当用户数量远远超过商品的数量，选用ItemCF，如购物网站、图书、电子商务、电影网站等\n",
    ">>该场景情况下，往往用户的兴趣爱好比较固定，用户数量往往也比商品数量多，此时若使用UserCF，空间复杂度消耗更大\n",
    ">>>给用户推荐时，因为与使用过类似的商品，此时的解释更具有说服力。但如果说某人也购买过此类产品，此时用户并不认识此人，难以有信服力\n",
    "\n",
    ">当商品或内容的更新频率非常高时，选用UserCF，如社交网络、新闻等"
   ]
  },
  {
   "cell_type": "markdown",
   "metadata": {},
   "source": [
    "#### 系统多样性\n",
    "- 也叫 覆盖率，指一个推荐系统能否给用户提供多种选择\n",
    ">ItemCF的多样性UserCF好，因为UserCF更倾向于推荐热门的物品，即ItemCF更容易发现并推荐长尾里的物品  \n",
    "><span style='color : red'>__ItemCF相对单个用户而言，显然多样性不足，但对整个系统而言，因为不同用户的主要兴趣点不同，因此系统的覆盖率会比较好__</span>"
   ]
  },
  {
   "cell_type": "markdown",
   "metadata": {},
   "source": [
    "#### 用户特点对推荐算法影响的比较\n",
    ">对于UserCF，如果用户暂时找不到兴趣相投的邻居，UserCF的推荐效果会大打折扣，即UserCF算法跟有多少邻居是成正比关系的  \n",
    ">对于ItemCF，前提是用户喜欢他以前购买过的物品相同类型的物品。<span style='color:red'>针对这个问题可以计算一个用户喜欢的物品的自相似度</span>"
   ]
  },
  {
   "cell_type": "markdown",
   "metadata": {},
   "source": [
    "### 基于用户的协同过滤算法"
   ]
  },
  {
   "cell_type": "code",
   "execution_count": 11,
   "metadata": {
    "ExecuteTime": {
     "end_time": "2019-06-06T11:38:20.971646Z",
     "start_time": "2019-06-06T11:38:20.890594Z"
    }
   },
   "outputs": [
    {
     "name": "stdout",
     "output_type": "stream",
     "text": [
      "defaultdict(<class 'collections.defaultdict'>, {'D': defaultdict(None, {'E': 0.5, 'A': 0.4082482904638631, 'F': 0.5, 'C': 0.4082482904638631}), 'E': defaultdict(None, {'D': 0.5, 'C': 0.4082482904638631}), 'B': defaultdict(None, {'A': 0.8164965809277261, 'F': 0.5, 'C': 0.4082482904638631}), 'A': defaultdict(None, {'D': 0.4082482904638631, 'B': 0.8164965809277261, 'C': 0.6666666666666666, 'F': 0.8164965809277261}), 'F': defaultdict(None, {'D': 0.5, 'B': 0.5, 'A': 0.8164965809277261, 'C': 0.4082482904638631}), 'C': defaultdict(None, {'D': 0.4082482904638631, 'E': 0.4082482904638631, 'B': 0.4082482904638631, 'A': 0.6666666666666666, 'F': 0.4082482904638631})})\n"
     ]
    }
   ],
   "source": [
    "from collections import defaultdict\n",
    "import math\n",
    "\n",
    "def item_index(train):\n",
    "    itemdict=defaultdict(defaultdict)\n",
    "    for key in train:\n",
    "        for i,j in train[key].items():\n",
    "            itemdict[i][key]=j\n",
    "    return itemdict\n",
    "\n",
    "def usersim(itemdict):\n",
    "    n=dict()\n",
    "    c=defaultdict(defaultdict)\n",
    "    w=defaultdict(defaultdict)\n",
    "    for key in itemdict:\n",
    "        for i,j in itemdict[key].items():\n",
    "            if i not in n.keys():\n",
    "                n[i]=0\n",
    "            n[i]+=1\n",
    "            for m in itemdict[key].keys():\n",
    "                if i==m:\n",
    "                    continue\n",
    "                if m not in c[i].keys():\n",
    "                    c[i][m]=0\n",
    "                c[i][m]+=1\n",
    "    for i,items in c.items():\n",
    "        for j,nums in items.items():\n",
    "            w[i][j]=nums/math.sqrt(n[i]*n[j])\n",
    "    return w\n",
    "\n",
    "if __name__=='__main__':\n",
    "    train_data={\n",
    "        'A':{'i1':1,'i2':1 ,'i4':1},\n",
    "        'B':{'i1':1,'i4':1},\n",
    "        'C':{'i1':1,'i2':1,'i5':1},\n",
    "        'D':{'i2':1,'i3':1},\n",
    "        'E':{'i3':1,'i5':1},\n",
    "        'F':{'i2':1,'i4':1}\n",
    "        }\n",
    "    w=usersim(item_index(train_data))\n",
    "    print(w)"
   ]
  },
  {
   "cell_type": "markdown",
   "metadata": {},
   "source": [
    "### 基于物品的协同过滤算法"
   ]
  },
  {
   "cell_type": "markdown",
   "metadata": {},
   "source": [
    "***核心思想：给用户推荐那些和他们之前喜欢的物品相似的物品***  \n",
    "***主要利用了用户行为的集体智慧***"
   ]
  },
  {
   "cell_type": "markdown",
   "metadata": {},
   "source": [
    "#### 基于共同喜欢物品的用户列表计算（购买数）:\n",
    "$$w_{ij}=\\frac{\\left|N(i)\\bigcap N(j)\\right|}{\\sqrt{\\left|N(i)\\right|*\\left|N(j)\\right|}}$$\n",
    "$N(i)$是购买物品i的用户数  \n",
    "$N(j)$是购买物品j的用户数  \n",
    ">代码："
   ]
  },
  {
   "cell_type": "code",
   "execution_count": null,
   "metadata": {
    "ExecuteTime": {
     "end_time": "2019-06-05T15:33:35.326606Z",
     "start_time": "2019-06-05T15:33:35.235547Z"
    }
   },
   "outputs": [],
   "source": [
    "import math\n",
    "\n",
    "def itemsim(train):\n",
    "    c=dict()##物品对的购买数\n",
    "    n=dict()##各个物品的购买数\n",
    "    for _,items in train.items():\n",
    "        for i in items.keys():\n",
    "            if i not in n.keys():\n",
    "                n[i]=0\n",
    "            n[i]+=1\n",
    "            if i not in c.keys():\n",
    "                c[i]=dict()\n",
    "            for j in items.keys():\n",
    "                if i==j:\n",
    "                    continue\n",
    "                if j not in c[i].keys():\n",
    "                    c[i][j]=0\n",
    "                c[i][j]+=1\n",
    "    w=dict()\n",
    "    for i,items in c.items():\n",
    "        if i not in w.keys():\n",
    "            w[i]=dict()\n",
    "        for j,cji in items.items():\n",
    "            w[i][j]=cji/(math.pow(n[i],0.5)*math.pow(n[j],0.5))\n",
    "    return w\n",
    "\n",
    "if __name__=='__main__':\n",
    "    train_data={\n",
    "        'A':{'i1':1,'i2':1 ,'i4':1},\n",
    "        'B':{'i1':1,'i4':1},\n",
    "        'C':{'i1':1,'i2':1,'i5':1},\n",
    "        'D':{'i2':1,'i3':1},\n",
    "        'E':{'i3':1,'i5':1},\n",
    "        'F':{'i2':1,'i4':1}\n",
    "        }\n",
    "    w=itemsim(train_data)\n",
    "    print(w)"
   ]
  },
  {
   "cell_type": "markdown",
   "metadata": {},
   "source": [
    "#### 基于余弦的相似度（评分数据）\n",
    "<span style='color:red'>__当用户购买了却不喜欢该商品时，基于购买物品的用户列表会出现推荐错误__</span>  \n",
    "$$w_{ij}=\\frac{\\sum\\limits^{len}_{k=1}(n_{ki}\\cdot n_{kj})}{\\sqrt{\\sum\\limits^{len}_{k=1}n_{ki}^2}\\cdot   \\sqrt{\\sum\\limits^{len}_{k=1}n_{kj}^2}}$$  \n",
    "$n_{ki}$是用户k对物品i的评分\n",
    ">代码："
   ]
  },
  {
   "cell_type": "code",
   "execution_count": null,
   "metadata": {
    "ExecuteTime": {
     "end_time": "2019-06-05T10:49:50.437605Z",
     "start_time": "2019-06-05T10:49:50.353551Z"
    }
   },
   "outputs": [],
   "source": [
    "def itemcos(train):\n",
    "    c=dict()\n",
    "    n=dict()\n",
    "    for _,items in train.items():\n",
    "        for i in items.keys():\n",
    "            if i not in c.keys():\n",
    "                c[i]=dict()\n",
    "            if i not in n.keys():\n",
    "                n[i]=0\n",
    "            n[i]+=items[i]*items[i]\n",
    "            for j in items.keys():\n",
    "                if i==j:\n",
    "                    continue\n",
    "                if j not in c[i].keys():\n",
    "                    c[i][j]=0\n",
    "                c[i][j]+=items[i]*items[j]\n",
    "    w=dict()\n",
    "    for i,items in c.items():\n",
    "        if i not in w.keys():\n",
    "            w[i]=dict()\n",
    "        for j in items.keys():\n",
    "            w[i][j]=c[i][j]/(math.sqrt(n[i])*math.sqrt(n[j]))\n",
    "    return w\n",
    "\n",
    "if __name__ == '__main__':  \n",
    "    train = {'A':{'i1':1,'i2':1 ,'i4':1},  \n",
    "     'B':{'i1':1,'i4':1},  \n",
    "     'C':{'i1':1,'i2':1,'i5':1},\n",
    "     'D':{'i2':1,'i3':1},\n",
    "     'E':{'i3':1,'i5':1},\n",
    "     'F':{'i2':1,'i4':1}\n",
    "        }  \n",
    "    w=itemcos(train)\n",
    "    print(w)"
   ]
  },
  {
   "cell_type": "markdown",
   "metadata": {},
   "source": [
    "#### 热门物品的惩罚\n",
    ">PS:分母中使用了物品总购买人数做惩罚，因为热门商品经常与其他商品进行一起购买，除以总人数可以降低该商品与其他商品的相似分数\n",
    "$$w_{ij}=\\frac{\\left|N(i)\\bigcap N(j)\\right|}{\\left|N(i)\\right|^\\alpha \\cdot\\left|N(j)\\right|^{1-\\alpha}}$$\n",
    "$\\alpha$是物品i的惩罚系数，取（0.5,1）\n",
    ">代码："
   ]
  },
  {
   "cell_type": "code",
   "execution_count": 14,
   "metadata": {
    "ExecuteTime": {
     "end_time": "2019-06-06T12:23:29.320815Z",
     "start_time": "2019-06-06T12:23:29.240764Z"
    }
   },
   "outputs": [
    {
     "name": "stdout",
     "output_type": "stream",
     "text": [
      "{'i1': {'i2': 0.3512393165574119, 'i4': 0.4295960099848361, 'i5': 0.2852949765682842}, 'i2': {'i1': 0.3512393165574119, 'i3': 0.23325824788420185, 'i4': 0.3512393165574119, 'i5': 0.23325824788420185}, 'i3': {'i2': 0.23325824788420185, 'i5': 0.37892914162759955}, 'i4': {'i1': 0.4295960099848361, 'i2': 0.3512393165574119}, 'i5': {'i1': 0.2852949765682842, 'i2': 0.23325824788420185, 'i3': 0.37892914162759955}}\n"
     ]
    }
   ],
   "source": [
    "import math\n",
    "\n",
    "def itemcos_alpha(train,alpha=0.7):\n",
    "    c=dict()\n",
    "    n=dict()\n",
    "    for _,items in train.items():\n",
    "        for i in items.keys():\n",
    "            if i not in c.keys():\n",
    "                c[i]=dict()\n",
    "            if i not in n.keys():\n",
    "                n[i]=0\n",
    "            n[i]+=1\n",
    "            for j in items.keys():\n",
    "                if i==j:\n",
    "                    continue\n",
    "                if j not in c[i].keys():\n",
    "                    c[i][j]=0\n",
    "                c[i][j]+=1\n",
    "    w=dict()\n",
    "    for i,items in c.items():\n",
    "        if i not in w.keys():\n",
    "            w[i]=dict()\n",
    "        for j,cij in items.items():\n",
    "            w[i][j]=c[i][j]/(math.pow(n[i],alpha)*math.pow(n[j],alpha))\n",
    "    return w\n",
    "\n",
    "if __name__=='__main__':\n",
    "    train_data={\n",
    "        'A':{'i1':1,'i2':6 ,'i4':1},\n",
    "        'B':{'i1':1,'i4':1},\n",
    "        'C':{'i1':1,'i2':7,'i5':1},\n",
    "        'D':{'i2':8,'i3':1},\n",
    "        'E':{'i3':1,'i5':1},\n",
    "        'F':{'i2':9,'i4':1}\n",
    "        }\n",
    "    w=itemcos_alpha(train_data)\n",
    "    print(w)"
   ]
  },
  {
   "cell_type": "markdown",
   "metadata": {},
   "source": [
    "#### 计算用户对商品的推荐分数\n",
    "$$p_{ui}=\\sum\\limits_{N(u)\\bigcap S(j,k)}w_{ij}\\cdot score_{uj}$$\n",
    "$S(j,k)$是与物品$j$相似物品的集合，一般来说j的相似分数最高的$K$个  \n",
    "$score_{uj}$是用户$u$对已购买的物品$j$的评分，如果没有评分数据，则取1\n",
    ">代码："
   ]
  },
  {
   "cell_type": "code",
   "execution_count": 16,
   "metadata": {
    "ExecuteTime": {
     "end_time": "2019-06-06T12:33:25.876750Z",
     "start_time": "2019-06-06T12:33:25.829720Z"
    }
   },
   "outputs": [
    {
     "data": {
      "text/plain": [
       "{'i3': 0.6121873895118014, 'i4': 0.7808353265422481}"
      ]
     },
     "execution_count": 16,
     "metadata": {},
     "output_type": "execute_result"
    }
   ],
   "source": [
    "def recommend(train,user_id,w,k):\n",
    "    rank=dict()\n",
    "    user_bought=train[user_id]\n",
    "    for i,scores in user_bought.items():\n",
    "        for j,wj in sorted(w[i].items(),key=lambda x: x[1],reverse=True)[0:k]:\n",
    "            if j in user_bought:##要考虑相似商品里是否已有自购的商品\n",
    "                continue\n",
    "            if j not in rank.keys():\n",
    "                rank[j]=0\n",
    "            rank[j]+=scores*wj\n",
    "    return rank\n",
    "\n",
    "if __name__ == '__main__':  \n",
    "    Train_Data = {'A':{'i1':1,'i2':1 ,'i4':1},  \n",
    "     'B':{'i1':1,'i4':1},  \n",
    "     'C':{'i1':1,'i2':1,'i5':1},\n",
    "     'D':{'i2':1,'i3':1},\n",
    "     'E':{'i3':1,'i5':1},\n",
    "     'F':{'i2':1,'i4':1}\n",
    "        }  \n",
    "    w=itemcos_alpha(Train_Data)\n",
    "    rec=recommend(Train_Data,'C',w,3)\n",
    "\n",
    "rec"
   ]
  },
  {
   "cell_type": "markdown",
   "metadata": {},
   "source": [
    "### 基于矩阵分解的推荐方法"
   ]
  },
  {
   "cell_type": "code",
   "execution_count": null,
   "metadata": {},
   "outputs": [],
   "source": []
  },
  {
   "cell_type": "markdown",
   "metadata": {},
   "source": [
    "### 基于稀疏自编码的推荐方法"
   ]
  },
  {
   "cell_type": "markdown",
   "metadata": {},
   "source": [
    "## 基于社交网络的推荐算法"
   ]
  },
  {
   "cell_type": "code",
   "execution_count": null,
   "metadata": {},
   "outputs": [],
   "source": []
  },
  {
   "cell_type": "code",
   "execution_count": null,
   "metadata": {},
   "outputs": [],
   "source": []
  },
  {
   "cell_type": "markdown",
   "metadata": {},
   "source": [
    "## 推荐系统冷启动问题"
   ]
  },
  {
   "cell_type": "code",
   "execution_count": null,
   "metadata": {},
   "outputs": [],
   "source": []
  }
 ],
 "metadata": {
  "kernelspec": {
   "display_name": "tensorflow35",
   "language": "python",
   "name": "tensorflow35"
  },
  "language_info": {
   "codemirror_mode": {
    "name": "ipython",
    "version": 3
   },
   "file_extension": ".py",
   "mimetype": "text/x-python",
   "name": "python",
   "nbconvert_exporter": "python",
   "pygments_lexer": "ipython3",
   "version": "3.5.4"
  },
  "latex_envs": {
   "LaTeX_envs_menu_present": true,
   "autoclose": false,
   "autocomplete": true,
   "bibliofile": "biblio.bib",
   "cite_by": "apalike",
   "current_citInitial": 1,
   "eqLabelWithNumbers": true,
   "eqNumInitial": 1,
   "hotkeys": {
    "equation": "Ctrl-E",
    "itemize": "Ctrl-I"
   },
   "labels_anchors": false,
   "latex_user_defs": false,
   "report_style_numbering": false,
   "user_envs_cfg": false
  },
  "toc": {
   "base_numbering": 1,
   "nav_menu": {},
   "number_sections": true,
   "sideBar": true,
   "skip_h1_title": false,
   "title_cell": "Table of Contents",
   "title_sidebar": "Contents",
   "toc_cell": true,
   "toc_position": {
    "height": "calc(100% - 180px)",
    "left": "10px",
    "top": "150px",
    "width": "273.188px"
   },
   "toc_section_display": true,
   "toc_window_display": false
  },
  "varInspector": {
   "cols": {
    "lenName": 16,
    "lenType": 16,
    "lenVar": 40
   },
   "kernels_config": {
    "python": {
     "delete_cmd_postfix": "",
     "delete_cmd_prefix": "del ",
     "library": "var_list.py",
     "varRefreshCmd": "print(var_dic_list())"
    },
    "r": {
     "delete_cmd_postfix": ") ",
     "delete_cmd_prefix": "rm(",
     "library": "var_list.r",
     "varRefreshCmd": "cat(var_dic_list()) "
    }
   },
   "types_to_exclude": [
    "module",
    "function",
    "builtin_function_or_method",
    "instance",
    "_Feature"
   ],
   "window_display": false
  }
 },
 "nbformat": 4,
 "nbformat_minor": 2
}
